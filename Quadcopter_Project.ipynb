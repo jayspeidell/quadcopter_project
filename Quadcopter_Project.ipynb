{
 "cells": [
  {
   "cell_type": "markdown",
   "metadata": {},
   "source": [
    "# Project: Train a Quadcopter How to Fly\n",
    "\n",
    "Design an agent to fly a quadcopter, and then train it using a reinforcement learning algorithm of your choice! \n",
    "\n",
    "Try to apply the techniques you have learnt, but also feel free to come up with innovative ideas and test them."
   ]
  },
  {
   "cell_type": "markdown",
   "metadata": {},
   "source": [
    "## Instructions\n",
    "\n",
    "Take a look at the files in the directory to better understand the structure of the project. \n",
    "\n",
    "- `task.py`: Define your task (environment) in this file.\n",
    "- `agents/`: Folder containing reinforcement learning agents.\n",
    "    - `policy_search.py`: A sample agent has been provided here.\n",
    "    - `agent.py`: Develop your agent here.\n",
    "- `physics_sim.py`: This file contains the simulator for the quadcopter.  **DO NOT MODIFY THIS FILE**.\n",
    "\n",
    "For this project, you will define your own task in `task.py`.  Although we have provided a example task to get you started, you are encouraged to change it.  Later in this notebook, you will learn more about how to amend this file.\n",
    "\n",
    "You will also design a reinforcement learning agent in `agent.py` to complete your chosen task.  \n",
    "\n",
    "You are welcome to create any additional files to help you to organize your code.  For instance, you may find it useful to define a `model.py` file defining any needed neural network architectures.\n",
    "\n",
    "## Controlling the Quadcopter\n",
    "\n",
    "We provide a sample agent in the code cell below to show you how to use the sim to control the quadcopter.  This agent is even simpler than the sample agent that you'll examine (in `agents/policy_search.py`) later in this notebook!\n",
    "\n",
    "The agent controls the quadcopter by setting the revolutions per second on each of its four rotors.  The provided agent in the `Basic_Agent` class below always selects a random action for each of the four rotors.  These four speeds are returned by the `act` method as a list of four floating-point numbers.  \n",
    "\n",
    "For this project, the agent that you will implement in `agents/agent.py` will have a far more intelligent method for selecting actions!"
   ]
  },
  {
   "cell_type": "code",
   "execution_count": 3,
   "metadata": {},
   "outputs": [],
   "source": [
    "import random\n",
    "\n",
    "class Basic_Agent():\n",
    "    def __init__(self, task):\n",
    "        self.task = task\n",
    "    \n",
    "    def act(self):\n",
    "        new_thrust = random.gauss(450., 25.)\n",
    "        return [new_thrust + random.gauss(0., 1.) for x in range(4)]"
   ]
  },
  {
   "cell_type": "markdown",
   "metadata": {},
   "source": [
    "Run the code cell below to have the agent select actions to control the quadcopter.  \n",
    "\n",
    "Feel free to change the provided values of `runtime`, `init_pose`, `init_velocities`, and `init_angle_velocities` below to change the starting conditions of the quadcopter.\n",
    "\n",
    "The `labels` list below annotates statistics that are saved while running the simulation.  All of this information is saved in a text file `data.txt` and stored in the dictionary `results`.  "
   ]
  },
  {
   "cell_type": "code",
   "execution_count": 4,
   "metadata": {},
   "outputs": [
    {
     "ename": "TypeError",
     "evalue": "output must be an array",
     "output_type": "error",
     "traceback": [
      "\u001b[0;31m---------------------------------------------------------------------------\u001b[0m",
      "\u001b[0;31mTypeError\u001b[0m                                 Traceback (most recent call last)",
      "\u001b[0;32m~/anaconda3/lib/python3.6/site-packages/numpy/core/fromnumeric.py\u001b[0m in \u001b[0;36m_wrapfunc\u001b[0;34m(obj, method, *args, **kwds)\u001b[0m\n\u001b[1;32m     51\u001b[0m     \u001b[0;32mtry\u001b[0m\u001b[0;34m:\u001b[0m\u001b[0;34m\u001b[0m\u001b[0m\n\u001b[0;32m---> 52\u001b[0;31m         \u001b[0;32mreturn\u001b[0m \u001b[0mgetattr\u001b[0m\u001b[0;34m(\u001b[0m\u001b[0mobj\u001b[0m\u001b[0;34m,\u001b[0m \u001b[0mmethod\u001b[0m\u001b[0;34m)\u001b[0m\u001b[0;34m(\u001b[0m\u001b[0;34m*\u001b[0m\u001b[0margs\u001b[0m\u001b[0;34m,\u001b[0m \u001b[0;34m**\u001b[0m\u001b[0mkwds\u001b[0m\u001b[0;34m)\u001b[0m\u001b[0;34m\u001b[0m\u001b[0m\n\u001b[0m\u001b[1;32m     53\u001b[0m \u001b[0;34m\u001b[0m\u001b[0m\n",
      "\u001b[0;31mTypeError\u001b[0m: output must be an array",
      "\nDuring handling of the above exception, another exception occurred:\n",
      "\u001b[0;31mTypeError\u001b[0m                                 Traceback (most recent call last)",
      "\u001b[0;32m<ipython-input-4-255774a3b200>\u001b[0m in \u001b[0;36m<module>\u001b[0;34m()\u001b[0m\n\u001b[1;32m     28\u001b[0m     \u001b[0;32mwhile\u001b[0m \u001b[0;32mTrue\u001b[0m\u001b[0;34m:\u001b[0m\u001b[0;34m\u001b[0m\u001b[0m\n\u001b[1;32m     29\u001b[0m         \u001b[0mrotor_speeds\u001b[0m \u001b[0;34m=\u001b[0m \u001b[0magent\u001b[0m\u001b[0;34m.\u001b[0m\u001b[0mact\u001b[0m\u001b[0;34m(\u001b[0m\u001b[0;34m)\u001b[0m\u001b[0;34m\u001b[0m\u001b[0m\n\u001b[0;32m---> 30\u001b[0;31m         \u001b[0m_\u001b[0m\u001b[0;34m,\u001b[0m \u001b[0m_\u001b[0m\u001b[0;34m,\u001b[0m \u001b[0mdone\u001b[0m \u001b[0;34m=\u001b[0m \u001b[0mtask\u001b[0m\u001b[0;34m.\u001b[0m\u001b[0mstep\u001b[0m\u001b[0;34m(\u001b[0m\u001b[0mrotor_speeds\u001b[0m\u001b[0;34m)\u001b[0m\u001b[0;34m\u001b[0m\u001b[0m\n\u001b[0m\u001b[1;32m     31\u001b[0m         \u001b[0mto_write\u001b[0m \u001b[0;34m=\u001b[0m \u001b[0;34m[\u001b[0m\u001b[0mtask\u001b[0m\u001b[0;34m.\u001b[0m\u001b[0msim\u001b[0m\u001b[0;34m.\u001b[0m\u001b[0mtime\u001b[0m\u001b[0;34m]\u001b[0m \u001b[0;34m+\u001b[0m \u001b[0mlist\u001b[0m\u001b[0;34m(\u001b[0m\u001b[0mtask\u001b[0m\u001b[0;34m.\u001b[0m\u001b[0msim\u001b[0m\u001b[0;34m.\u001b[0m\u001b[0mpose\u001b[0m\u001b[0;34m)\u001b[0m \u001b[0;34m+\u001b[0m \u001b[0mlist\u001b[0m\u001b[0;34m(\u001b[0m\u001b[0mtask\u001b[0m\u001b[0;34m.\u001b[0m\u001b[0msim\u001b[0m\u001b[0;34m.\u001b[0m\u001b[0mv\u001b[0m\u001b[0;34m)\u001b[0m \u001b[0;34m+\u001b[0m \u001b[0mlist\u001b[0m\u001b[0;34m(\u001b[0m\u001b[0mtask\u001b[0m\u001b[0;34m.\u001b[0m\u001b[0msim\u001b[0m\u001b[0;34m.\u001b[0m\u001b[0mangular_v\u001b[0m\u001b[0;34m)\u001b[0m \u001b[0;34m+\u001b[0m \u001b[0mlist\u001b[0m\u001b[0;34m(\u001b[0m\u001b[0mrotor_speeds\u001b[0m\u001b[0;34m)\u001b[0m\u001b[0;34m\u001b[0m\u001b[0m\n\u001b[1;32m     32\u001b[0m         \u001b[0;32mfor\u001b[0m \u001b[0mii\u001b[0m \u001b[0;32min\u001b[0m \u001b[0mrange\u001b[0m\u001b[0;34m(\u001b[0m\u001b[0mlen\u001b[0m\u001b[0;34m(\u001b[0m\u001b[0mlabels\u001b[0m\u001b[0;34m)\u001b[0m\u001b[0;34m)\u001b[0m\u001b[0;34m:\u001b[0m\u001b[0;34m\u001b[0m\u001b[0m\n",
      "\u001b[0;32m/media/jay/Storage/Python/jupyter/quadcopter_project/task.py\u001b[0m in \u001b[0;36mstep\u001b[0;34m(self, rotor_speeds)\u001b[0m\n\u001b[1;32m     37\u001b[0m \u001b[0;34m\u001b[0m\u001b[0m\n\u001b[1;32m     38\u001b[0m     \u001b[0;32mdef\u001b[0m \u001b[0mstep\u001b[0m\u001b[0;34m(\u001b[0m\u001b[0mself\u001b[0m\u001b[0;34m,\u001b[0m \u001b[0mrotor_speeds\u001b[0m\u001b[0;34m)\u001b[0m\u001b[0;34m:\u001b[0m\u001b[0;34m\u001b[0m\u001b[0m\n\u001b[0;32m---> 39\u001b[0;31m         \u001b[0mnp\u001b[0m\u001b[0;34m.\u001b[0m\u001b[0mclip\u001b[0m\u001b[0;34m(\u001b[0m\u001b[0mnp\u001b[0m\u001b[0;34m.\u001b[0m\u001b[0marray\u001b[0m\u001b[0;34m(\u001b[0m\u001b[0mrotor_speeds\u001b[0m\u001b[0;34m)\u001b[0m\u001b[0;34m,\u001b[0m \u001b[0mself\u001b[0m\u001b[0;34m.\u001b[0m\u001b[0maction_low\u001b[0m\u001b[0;34m,\u001b[0m \u001b[0mself\u001b[0m\u001b[0;34m.\u001b[0m\u001b[0maction_high\u001b[0m\u001b[0;34m,\u001b[0m \u001b[0mout\u001b[0m\u001b[0;34m=\u001b[0m\u001b[0mrotor_speeds\u001b[0m\u001b[0;34m)\u001b[0m\u001b[0;34m\u001b[0m\u001b[0m\n\u001b[0m\u001b[1;32m     40\u001b[0m         \u001b[0;34m\"\"\"Uses action to obtain next state, reward, done.\"\"\"\u001b[0m\u001b[0;34m\u001b[0m\u001b[0m\n\u001b[1;32m     41\u001b[0m         \u001b[0;31m#reward = 0\u001b[0m\u001b[0;34m\u001b[0m\u001b[0;34m\u001b[0m\u001b[0m\n",
      "\u001b[0;32m~/anaconda3/lib/python3.6/site-packages/numpy/core/fromnumeric.py\u001b[0m in \u001b[0;36mclip\u001b[0;34m(a, a_min, a_max, out)\u001b[0m\n\u001b[1;32m   1773\u001b[0m \u001b[0;34m\u001b[0m\u001b[0m\n\u001b[1;32m   1774\u001b[0m     \"\"\"\n\u001b[0;32m-> 1775\u001b[0;31m     \u001b[0;32mreturn\u001b[0m \u001b[0m_wrapfunc\u001b[0m\u001b[0;34m(\u001b[0m\u001b[0ma\u001b[0m\u001b[0;34m,\u001b[0m \u001b[0;34m'clip'\u001b[0m\u001b[0;34m,\u001b[0m \u001b[0ma_min\u001b[0m\u001b[0;34m,\u001b[0m \u001b[0ma_max\u001b[0m\u001b[0;34m,\u001b[0m \u001b[0mout\u001b[0m\u001b[0;34m=\u001b[0m\u001b[0mout\u001b[0m\u001b[0;34m)\u001b[0m\u001b[0;34m\u001b[0m\u001b[0m\n\u001b[0m\u001b[1;32m   1776\u001b[0m \u001b[0;34m\u001b[0m\u001b[0m\n\u001b[1;32m   1777\u001b[0m \u001b[0;34m\u001b[0m\u001b[0m\n",
      "\u001b[0;32m~/anaconda3/lib/python3.6/site-packages/numpy/core/fromnumeric.py\u001b[0m in \u001b[0;36m_wrapfunc\u001b[0;34m(obj, method, *args, **kwds)\u001b[0m\n\u001b[1;32m     60\u001b[0m     \u001b[0;31m# a downstream library like 'pandas'.\u001b[0m\u001b[0;34m\u001b[0m\u001b[0;34m\u001b[0m\u001b[0m\n\u001b[1;32m     61\u001b[0m     \u001b[0;32mexcept\u001b[0m \u001b[0;34m(\u001b[0m\u001b[0mAttributeError\u001b[0m\u001b[0;34m,\u001b[0m \u001b[0mTypeError\u001b[0m\u001b[0;34m)\u001b[0m\u001b[0;34m:\u001b[0m\u001b[0;34m\u001b[0m\u001b[0m\n\u001b[0;32m---> 62\u001b[0;31m         \u001b[0;32mreturn\u001b[0m \u001b[0m_wrapit\u001b[0m\u001b[0;34m(\u001b[0m\u001b[0mobj\u001b[0m\u001b[0;34m,\u001b[0m \u001b[0mmethod\u001b[0m\u001b[0;34m,\u001b[0m \u001b[0;34m*\u001b[0m\u001b[0margs\u001b[0m\u001b[0;34m,\u001b[0m \u001b[0;34m**\u001b[0m\u001b[0mkwds\u001b[0m\u001b[0;34m)\u001b[0m\u001b[0;34m\u001b[0m\u001b[0m\n\u001b[0m\u001b[1;32m     63\u001b[0m \u001b[0;34m\u001b[0m\u001b[0m\n\u001b[1;32m     64\u001b[0m \u001b[0;34m\u001b[0m\u001b[0m\n",
      "\u001b[0;32m~/anaconda3/lib/python3.6/site-packages/numpy/core/fromnumeric.py\u001b[0m in \u001b[0;36m_wrapit\u001b[0;34m(obj, method, *args, **kwds)\u001b[0m\n\u001b[1;32m     40\u001b[0m     \u001b[0;32mexcept\u001b[0m \u001b[0mAttributeError\u001b[0m\u001b[0;34m:\u001b[0m\u001b[0;34m\u001b[0m\u001b[0m\n\u001b[1;32m     41\u001b[0m         \u001b[0mwrap\u001b[0m \u001b[0;34m=\u001b[0m \u001b[0;32mNone\u001b[0m\u001b[0;34m\u001b[0m\u001b[0m\n\u001b[0;32m---> 42\u001b[0;31m     \u001b[0mresult\u001b[0m \u001b[0;34m=\u001b[0m \u001b[0mgetattr\u001b[0m\u001b[0;34m(\u001b[0m\u001b[0masarray\u001b[0m\u001b[0;34m(\u001b[0m\u001b[0mobj\u001b[0m\u001b[0;34m)\u001b[0m\u001b[0;34m,\u001b[0m \u001b[0mmethod\u001b[0m\u001b[0;34m)\u001b[0m\u001b[0;34m(\u001b[0m\u001b[0;34m*\u001b[0m\u001b[0margs\u001b[0m\u001b[0;34m,\u001b[0m \u001b[0;34m**\u001b[0m\u001b[0mkwds\u001b[0m\u001b[0;34m)\u001b[0m\u001b[0;34m\u001b[0m\u001b[0m\n\u001b[0m\u001b[1;32m     43\u001b[0m     \u001b[0;32mif\u001b[0m \u001b[0mwrap\u001b[0m\u001b[0;34m:\u001b[0m\u001b[0;34m\u001b[0m\u001b[0m\n\u001b[1;32m     44\u001b[0m         \u001b[0;32mif\u001b[0m \u001b[0;32mnot\u001b[0m \u001b[0misinstance\u001b[0m\u001b[0;34m(\u001b[0m\u001b[0mresult\u001b[0m\u001b[0;34m,\u001b[0m \u001b[0mmu\u001b[0m\u001b[0;34m.\u001b[0m\u001b[0mndarray\u001b[0m\u001b[0;34m)\u001b[0m\u001b[0;34m:\u001b[0m\u001b[0;34m\u001b[0m\u001b[0m\n",
      "\u001b[0;31mTypeError\u001b[0m: output must be an array"
     ]
    }
   ],
   "source": [
    "%load_ext autoreload\n",
    "%autoreload 2\n",
    "\n",
    "import csv\n",
    "import numpy as np\n",
    "from task import Task\n",
    "\n",
    "# Modify the values below to give the quadcopter a different starting position.\n",
    "runtime = 5.                                     # time limit of the episode\n",
    "init_pose = np.array([0., 0., 10., 0., 0., 0.])  # initial pose\n",
    "init_velocities = np.array([0., 0., 0.])         # initial velocities\n",
    "init_angle_velocities = np.array([0., 0., 0.])   # initial angle velocities\n",
    "file_output = 'data.txt'                         # file name for saved results\n",
    "\n",
    "# Setup\n",
    "task = Task(init_pose, init_velocities, init_angle_velocities, runtime)\n",
    "agent = Basic_Agent(task)\n",
    "done = False\n",
    "labels = ['time', 'x', 'y', 'z', 'phi', 'theta', 'psi', 'x_velocity',\n",
    "          'y_velocity', 'z_velocity', 'phi_velocity', 'theta_velocity',\n",
    "          'psi_velocity', 'rotor_speed1', 'rotor_speed2', 'rotor_speed3', 'rotor_speed4']\n",
    "results = {x : [] for x in labels}\n",
    "\n",
    "# Run the simulation, and save the results.\n",
    "with open(file_output, 'w') as csvfile:\n",
    "    writer = csv.writer(csvfile)\n",
    "    writer.writerow(labels)\n",
    "    while True:\n",
    "        rotor_speeds = agent.act()\n",
    "        _, _, done = task.step(rotor_speeds)\n",
    "        to_write = [task.sim.time] + list(task.sim.pose) + list(task.sim.v) + list(task.sim.angular_v) + list(rotor_speeds)\n",
    "        for ii in range(len(labels)):\n",
    "            results[labels[ii]].append(to_write[ii])\n",
    "        writer.writerow(to_write)\n",
    "        if done:\n",
    "            break"
   ]
  },
  {
   "cell_type": "markdown",
   "metadata": {},
   "source": [
    "Run the code cell below to visualize how the position of the quadcopter evolved during the simulation."
   ]
  },
  {
   "cell_type": "code",
   "execution_count": null,
   "metadata": {},
   "outputs": [],
   "source": [
    "import matplotlib.pyplot as plt\n",
    "%matplotlib inline\n",
    "\n",
    "plt.plot(results['time'], results['x'], label='x')\n",
    "plt.plot(results['time'], results['y'], label='y')\n",
    "plt.plot(results['time'], results['z'], label='z')\n",
    "plt.legend()\n",
    "_ = plt.ylim()"
   ]
  },
  {
   "cell_type": "markdown",
   "metadata": {},
   "source": [
    "The next code cell visualizes the velocity of the quadcopter."
   ]
  },
  {
   "cell_type": "code",
   "execution_count": null,
   "metadata": {},
   "outputs": [],
   "source": [
    "plt.plot(results['time'], results['x_velocity'], label='x_hat')\n",
    "plt.plot(results['time'], results['y_velocity'], label='y_hat')\n",
    "plt.plot(results['time'], results['z_velocity'], label='z_hat')\n",
    "plt.legend()\n",
    "_ = plt.ylim()"
   ]
  },
  {
   "cell_type": "markdown",
   "metadata": {},
   "source": [
    "Next, you can plot the Euler angles (the rotation of the quadcopter over the $x$-, $y$-, and $z$-axes),"
   ]
  },
  {
   "cell_type": "code",
   "execution_count": null,
   "metadata": {},
   "outputs": [],
   "source": [
    "plt.plot(results['time'], results['phi'], label='phi')\n",
    "plt.plot(results['time'], results['theta'], label='theta')\n",
    "plt.plot(results['time'], results['psi'], label='psi')\n",
    "plt.legend()\n",
    "_ = plt.ylim()"
   ]
  },
  {
   "cell_type": "markdown",
   "metadata": {},
   "source": [
    "before plotting the velocities (in radians per second) corresponding to each of the Euler angles."
   ]
  },
  {
   "cell_type": "code",
   "execution_count": null,
   "metadata": {},
   "outputs": [],
   "source": [
    "plt.plot(results['time'], results['phi_velocity'], label='phi_velocity')\n",
    "plt.plot(results['time'], results['theta_velocity'], label='theta_velocity')\n",
    "plt.plot(results['time'], results['psi_velocity'], label='psi_velocity')\n",
    "plt.legend()\n",
    "_ = plt.ylim()"
   ]
  },
  {
   "cell_type": "markdown",
   "metadata": {},
   "source": [
    "Finally, you can use the code cell below to print the agent's choice of actions.  "
   ]
  },
  {
   "cell_type": "code",
   "execution_count": null,
   "metadata": {},
   "outputs": [],
   "source": [
    "plt.plot(results['time'], results['rotor_speed1'], label='Rotor 1 revolutions / second')\n",
    "plt.plot(results['time'], results['rotor_speed2'], label='Rotor 2 revolutions / second')\n",
    "plt.plot(results['time'], results['rotor_speed3'], label='Rotor 3 revolutions / second')\n",
    "plt.plot(results['time'], results['rotor_speed4'], label='Rotor 4 revolutions / second')\n",
    "plt.legend()\n",
    "_ = plt.ylim()"
   ]
  },
  {
   "cell_type": "markdown",
   "metadata": {},
   "source": [
    "When specifying a task, you will derive the environment state from the simulator.  Run the code cell below to print the values of the following variables at the end of the simulation:\n",
    "- `task.sim.pose` (the position of the quadcopter in ($x,y,z$) dimensions and the Euler angles),\n",
    "- `task.sim.v` (the velocity of the quadcopter in ($x,y,z$) dimensions), and\n",
    "- `task.sim.angular_v` (radians/second for each of the three Euler angles)."
   ]
  },
  {
   "cell_type": "code",
   "execution_count": null,
   "metadata": {},
   "outputs": [],
   "source": [
    "# the pose, velocity, and angular velocity of the quadcopter at the end of the episode\n",
    "print(task.sim.pose)\n",
    "print(task.sim.v)\n",
    "print(task.sim.angular_v)"
   ]
  },
  {
   "cell_type": "markdown",
   "metadata": {},
   "source": [
    "In the sample task in `task.py`, we use the 6-dimensional pose of the quadcopter to construct the state of the environment at each timestep.  However, when amending the task for your purposes, you are welcome to expand the size of the state vector by including the velocity information.  You can use any combination of the pose, velocity, and angular velocity - feel free to tinker here, and construct the state to suit your task.\n",
    "\n",
    "## The Task\n",
    "\n",
    "A sample task has been provided for you in `task.py`.  Open this file in a new window now. \n",
    "\n",
    "The `__init__()` method is used to initialize several variables that are needed to specify the task.  \n",
    "- The simulator is initialized as an instance of the `PhysicsSim` class (from `physics_sim.py`).  \n",
    "- Inspired by the methodology in the original DDPG paper, we make use of action repeats.  For each timestep of the agent, we step the simulation `action_repeats` timesteps.  If you are not familiar with action repeats, please read the **Results** section in [the DDPG paper](https://arxiv.org/abs/1509.02971).\n",
    "- We set the number of elements in the state vector.  For the sample task, we only work with the 6-dimensional pose information.  To set the size of the state (`state_size`), we must take action repeats into account.  \n",
    "- The environment will always have a 4-dimensional action space, with one entry for each rotor (`action_size=4`). You can set the minimum (`action_low`) and maximum (`action_high`) values of each entry here.\n",
    "- The sample task in this provided file is for the agent to reach a target position.  We specify that target position as a variable.\n",
    "\n",
    "The `reset()` method resets the simulator.  The agent should call this method every time the episode ends.  You can see an example of this in the code cell below.\n",
    "\n",
    "The `step()` method is perhaps the most important.  It accepts the agent's choice of action `rotor_speeds`, which is used to prepare the next state to pass on to the agent.  Then, the reward is computed from `get_reward()`.  The episode is considered done if the time limit has been exceeded, or the quadcopter has travelled outside of the bounds of the simulation.\n",
    "\n",
    "In the next section, you will learn how to test the performance of an agent on this task."
   ]
  },
  {
   "cell_type": "markdown",
   "metadata": {},
   "source": [
    "## The Agent\n",
    "\n",
    "The sample agent given in `agents/policy_search.py` uses a very simplistic linear policy to directly compute the action vector as a dot product of the state vector and a matrix of weights. Then, it randomly perturbs the parameters by adding some Gaussian noise, to produce a different policy. Based on the average reward obtained in each episode (`score`), it keeps track of the best set of parameters found so far, how the score is changing, and accordingly tweaks a scaling factor to widen or tighten the noise.\n",
    "\n",
    "Run the code cell below to see how the agent performs on the sample task."
   ]
  },
  {
   "cell_type": "code",
   "execution_count": 5,
   "metadata": {},
   "outputs": [
    {
     "ename": "ModuleNotFoundError",
     "evalue": "No module named 'agents'",
     "output_type": "error",
     "traceback": [
      "\u001b[0;31m---------------------------------------------------------------------------\u001b[0m",
      "\u001b[0;31mModuleNotFoundError\u001b[0m                       Traceback (most recent call last)",
      "\u001b[0;32m<ipython-input-5-0b336a4ce0bc>\u001b[0m in \u001b[0;36m<module>\u001b[0;34m()\u001b[0m\n\u001b[1;32m      1\u001b[0m \u001b[0;32mimport\u001b[0m \u001b[0msys\u001b[0m\u001b[0;34m\u001b[0m\u001b[0m\n\u001b[1;32m      2\u001b[0m \u001b[0;32mimport\u001b[0m \u001b[0mpandas\u001b[0m \u001b[0;32mas\u001b[0m \u001b[0mpd\u001b[0m\u001b[0;34m\u001b[0m\u001b[0m\n\u001b[0;32m----> 3\u001b[0;31m \u001b[0;32mfrom\u001b[0m \u001b[0magents\u001b[0m\u001b[0;34m.\u001b[0m\u001b[0mpolicy_search\u001b[0m \u001b[0;32mimport\u001b[0m \u001b[0mPolicySearch_Agent\u001b[0m\u001b[0;34m\u001b[0m\u001b[0m\n\u001b[0m\u001b[1;32m      4\u001b[0m \u001b[0;32mfrom\u001b[0m \u001b[0mtask\u001b[0m \u001b[0;32mimport\u001b[0m \u001b[0mTask\u001b[0m\u001b[0;34m\u001b[0m\u001b[0m\n\u001b[1;32m      5\u001b[0m \u001b[0;34m\u001b[0m\u001b[0m\n",
      "\u001b[0;31mModuleNotFoundError\u001b[0m: No module named 'agents'"
     ]
    }
   ],
   "source": [
    "import sys\n",
    "import pandas as pd\n",
    "from agents.policy_search import PolicySearch_Agent\n",
    "from task import Task\n",
    "\n",
    "num_episodes = 1000\n",
    "target_pos = np.array([0., 0., 10.])\n",
    "task = Task(target_pos=target_pos)\n",
    "agent = PolicySearch_Agent(task) \n",
    "\n",
    "for i_episode in range(1, num_episodes+1):\n",
    "    state = agent.reset_episode() # start a new episode\n",
    "    while True:\n",
    "        action = agent.act(state) \n",
    "        next_state, reward, done = task.step(action)\n",
    "        agent.step(reward, done)\n",
    "        state = next_state\n",
    "        if done:\n",
    "            print(\"\\rEpisode = {:4d}, score = {:7.3f} (best = {:7.3f}), noise_scale = {}\".format(\n",
    "                i_episode, agent.score, agent.best_score, agent.noise_scale), end=\"\")  # [debug]\n",
    "            break\n",
    "    sys.stdout.flush()"
   ]
  },
  {
   "cell_type": "markdown",
   "metadata": {},
   "source": [
    "This agent should perform very poorly on this task.  And that's where you come in!"
   ]
  },
  {
   "cell_type": "markdown",
   "metadata": {
    "collapsed": true
   },
   "source": [
    "## Define the Task, Design the Agent, and Train Your Agent!\n",
    "\n",
    "Amend `task.py` to specify a task of your choosing.  If you're unsure what kind of task to specify, you may like to teach your quadcopter to takeoff, hover in place, land softly, or reach a target pose.  \n",
    "\n",
    "After specifying your task, use the sample agent in `agents/policy_search.py` as a template to define your own agent in `agents/agent.py`.  You can borrow whatever you need from the sample agent, including ideas on how you might modularize your code (using helper methods like `act()`, `learn()`, `reset_episode()`, etc.).\n",
    "\n",
    "Note that it is **highly unlikely** that the first agent and task that you specify will learn well.  You will likely have to tweak various hyperparameters and the reward function for your task until you arrive at reasonably good behavior.\n",
    "\n",
    "As you develop your agent, it's important to keep an eye on how it's performing. Use the code above as inspiration to build in a mechanism to log/save the total rewards obtained in each episode to file.  If the episode rewards are gradually increasing, this is an indication that your agent is learning."
   ]
  },
  {
   "cell_type": "code",
   "execution_count": 4,
   "metadata": {},
   "outputs": [],
   "source": [
    "\n",
    "agent.actor.model.predict(np.array(np.reshape([ 0.,  0., 10.,  0.,  0.,  0.], [-1,6])))"
   ]
  },
  {
   "cell_type": "code",
   "execution_count": null,
   "metadata": {
    "scrolled": true
   },
   "outputs": [],
   "source": [
    "print(agent.task.sim.next_timestep([[50,75,80,98]]))"
   ]
  },
  {
   "cell_type": "code",
   "execution_count": 1,
   "metadata": {
    "scrolled": true
   },
   "outputs": [
    {
     "name": "stderr",
     "output_type": "stream",
     "text": [
      "Using TensorFlow backend.\n"
     ]
    },
    {
     "name": "stdout",
     "output_type": "stream",
     "text": [
      "Distance: 95.0\n",
      "1000 step loss: 0.023670\n",
      "2000 step loss: 0.004961\n",
      "3000 step loss: 0.049710\n",
      "4000 step loss: 0.062307\n",
      "5000 step loss: 0.002121\n",
      "6000 step loss: 0.002513\n",
      "7000 step loss: 0.000664\n",
      "8000 step loss: 0.001287\n",
      "9000 step loss: 0.003206\n",
      "Took -119 seconds.\n"
     ]
    }
   ],
   "source": [
    "import time\n",
    "t = time.time()\n",
    "import numpy as np\n",
    "from agent import Agent\n",
    "agent = Agent(init_pose=[0,0,25,0,0,0], target_pos=[0,0,120], runtime=20)\n",
    "agent.step()\n",
    "for _ in range(10000):\n",
    "    agent.step()\n",
    "    len(agent.memory.memory)\n",
    "print('Took %d seconds.' % int(t - time.time()))"
   ]
  },
  {
   "cell_type": "code",
   "execution_count": 2,
   "metadata": {
    "scrolled": true
   },
   "outputs": [
    {
     "name": "stdout",
     "output_type": "stream",
     "text": [
      "DONE!\n",
      "Step: 0, action: 900.0, 500.0, 500.0, 900.0, position: 0.0, 0.0, 25.0, dist: 0.00, spd: 0.000, reward: 0.000\n",
      "Step: 1, action: 900.0, 500.0, 500.0, 900.0, position: 0.0, 0.0, 25.0, dist: 95.00, spd: 0.004, reward: 0.000\n",
      "Step: 2, action: 900.0, 500.0, 500.0, 900.0, position: 0.0, 0.0, 25.0, dist: 94.98, spd: 0.013, reward: 0.000\n",
      "Step: 3, action: 900.0, 500.0, 500.0, 900.0, position: 0.0, 0.0, 25.0, dist: 94.97, spd: 0.021, reward: 0.000\n",
      "Step: 4, action: 900.0, 500.0, 500.0, 900.0, position: 0.0, 0.0, 25.1, dist: 94.94, spd: 0.030, reward: 0.001\n",
      "Step: 5, action: 900.0, 500.0, 500.0, 900.0, position: 0.0, 0.0, 25.1, dist: 94.92, spd: 0.037, reward: 0.001\n",
      "Step: 6, action: 900.0, 500.0, 500.0, 900.0, position: 0.0, 0.0, 25.1, dist: 94.89, spd: 0.037, reward: 0.001\n",
      "Step: 7, action: 900.0, 500.0, 500.0, 900.0, position: -0.0, 0.0, 25.2, dist: 94.87, spd: 0.034, reward: 0.002\n",
      "Step: 8, action: 900.0, 500.0, 500.0, 900.0, position: -0.0, 0.1, 25.2, dist: 94.86, spd: 0.028, reward: 0.002\n",
      "Step: 9, action: 900.0, 500.0, 500.0, 900.0, position: 0.0, 0.1, 25.2, dist: 94.86, spd: 0.021, reward: 0.002\n",
      "Step: 10, action: 900.0, 500.0, 500.0, 900.0, position: 0.0, 0.1, 25.2, dist: 94.90, spd: 0.014, reward: 0.003\n",
      "Step: 11, action: 900.0, 500.0, 500.0, 900.0, position: 0.1, 0.1, 25.2, dist: 94.95, spd: 0.003, reward: 0.003\n",
      "Step: 12, action: 900.0, 500.0, 500.0, 900.0, position: 0.1, 0.2, 25.2, dist: 95.02, spd: 0.009, reward: 0.002\n",
      "Step: 13, action: 900.0, 500.0, 500.0, 900.0, position: 0.1, 0.2, 25.2, dist: 95.10, spd: 0.015, reward: 0.002\n",
      "Step: 14, action: 900.0, 500.0, 500.0, 900.0, position: 0.2, 0.2, 25.2, dist: 95.18, spd: 0.016, reward: 0.002\n",
      "Step: 15, action: 900.0, 500.0, 500.0, 900.0, position: 0.3, 0.2, 25.2, dist: 95.27, spd: 0.017, reward: 0.002\n",
      "Step: 16, action: 900.0, 500.0, 500.0, 900.0, position: 0.3, 0.2, 25.2, dist: 95.38, spd: 0.022, reward: 0.002\n",
      "Step: 17, action: 900.0, 500.0, 500.0, 900.0, position: 0.4, 0.2, 25.1, dist: 95.51, spd: 0.030, reward: 0.001\n",
      "Step: 18, action: 900.0, 500.0, 500.0, 900.0, position: 0.5, 0.2, 25.1, dist: 95.64, spd: 0.038, reward: 0.001\n",
      "Step: 19, action: 900.0, 500.0, 500.0, 900.0, position: 0.6, 0.2, 25.1, dist: 95.77, spd: 0.044, reward: 0.001\n",
      "Step: 20, action: 900.0, 500.0, 500.0, 900.0, position: 0.8, 0.1, 25.0, dist: 95.89, spd: 0.044, reward: 0.000\n",
      "Step: 21, action: 900.0, 500.0, 500.0, 900.0, position: 0.8, 0.1, 25.0, dist: 96.00, spd: 0.041, reward: -0.000\n",
      "Step: 22, action: 900.0, 500.0, 500.0, 900.0, position: 0.9, 0.1, 24.9, dist: 96.09, spd: 0.039, reward: -0.001\n",
      "Step: 23, action: 900.0, 500.0, 500.0, 900.0, position: 1.0, 0.0, 24.9, dist: 96.17, spd: 0.043, reward: -0.001\n",
      "Step: 24, action: 900.0, 500.0, 500.0, 900.0, position: 1.1, 0.0, 24.8, dist: 96.24, spd: 0.050, reward: -0.002\n",
      "Step: 25, action: 900.0, 500.0, 500.0, 900.0, position: 1.1, -0.0, 24.8, dist: 96.40, spd: 0.057, reward: -0.002\n",
      "Step: 26, action: 900.0, 500.0, 500.0, 900.0, position: 1.2, -0.1, 24.7, dist: 96.57, spd: 0.061, reward: -0.003\n",
      "Step: 27, action: 900.0, 500.0, 500.0, 900.0, position: 1.2, -0.2, 24.7, dist: 96.76, spd: 0.059, reward: -0.004\n",
      "Step: 28, action: 900.0, 500.0, 500.0, 900.0, position: 1.3, -0.3, 24.6, dist: 96.96, spd: 0.056, reward: -0.004\n",
      "Step: 29, action: 900.0, 500.0, 500.0, 900.0, position: 1.4, -0.3, 24.5, dist: 97.17, spd: 0.056, reward: -0.005\n",
      "Step: 30, action: 900.0, 500.0, 500.0, 900.0, position: 1.5, -0.4, 24.5, dist: 97.39, spd: 0.061, reward: -0.005\n",
      "Step: 31, action: 900.0, 500.0, 500.0, 900.0, position: 1.6, -0.5, 24.4, dist: 97.64, spd: 0.069, reward: -0.006\n",
      "Step: 32, action: 900.0, 500.0, 500.0, 900.0, position: 1.7, -0.6, 24.3, dist: 97.92, spd: 0.075, reward: -0.007\n",
      "Step: 33, action: 900.0, 500.0, 500.0, 900.0, position: 1.8, -0.7, 24.3, dist: 98.20, spd: 0.076, reward: -0.008\n",
      "Step: 34, action: 900.0, 500.0, 500.0, 900.0, position: 1.9, -0.8, 24.2, dist: 98.48, spd: 0.073, reward: -0.009\n",
      "Step: 35, action: 900.0, 500.0, 500.0, 900.0, position: 2.0, -0.9, 24.1, dist: 98.76, spd: 0.070, reward: -0.009\n",
      "Step: 36, action: 900.0, 500.0, 500.0, 900.0, position: 2.0, -1.0, 24.0, dist: 99.02, spd: 0.072, reward: -0.010\n",
      "Step: 37, action: 900.0, 500.0, 500.0, 900.0, position: 2.1, -1.2, 24.0, dist: 99.28, spd: 0.079, reward: -0.011\n",
      "Step: 38, action: 900.0, 500.0, 500.0, 900.0, position: 2.1, -1.3, 23.9, dist: 99.55, spd: 0.087, reward: -0.012\n",
      "Step: 39, action: 900.0, 500.0, 500.0, 900.0, position: 2.2, -1.4, 23.8, dist: 99.83, spd: 0.091, reward: -0.013\n",
      "Step: 40, action: 900.0, 500.0, 500.0, 900.0, position: 2.3, -1.6, 23.7, dist: 100.13, spd: 0.090, reward: -0.014\n",
      "Step: 41, action: 900.0, 500.0, 500.0, 900.0, position: 2.3, -1.7, 23.6, dist: 100.43, spd: 0.087, reward: -0.015\n",
      "Step: 42, action: 900.0, 500.0, 500.0, 900.0, position: 2.4, -1.9, 23.5, dist: 100.75, spd: 0.087, reward: -0.016\n",
      "Step: 43, action: 900.0, 500.0, 500.0, 900.0, position: 2.5, -2.0, 23.4, dist: 101.08, spd: 0.091, reward: -0.016\n",
      "Step: 44, action: 900.0, 500.0, 500.0, 900.0, position: 2.6, -2.2, 23.3, dist: 101.44, spd: 0.098, reward: -0.017\n",
      "Step: 45, action: 900.0, 500.0, 500.0, 900.0, position: 2.7, -2.4, 23.2, dist: 101.81, spd: 0.104, reward: -0.019\n",
      "Step: 46, action: 900.0, 500.0, 500.0, 900.0, position: 2.8, -2.6, 23.1, dist: 102.20, spd: 0.105, reward: -0.020\n",
      "Step: 47, action: 900.0, 500.0, 500.0, 900.0, position: 2.9, -2.7, 23.0, dist: 102.59, spd: 0.102, reward: -0.021\n",
      "Step: 48, action: 900.0, 500.0, 500.0, 900.0, position: 3.0, -2.9, 22.9, dist: 102.96, spd: 0.099, reward: -0.022\n",
      "Step: 49, action: 900.0, 500.0, 500.0, 900.0, position: 3.0, -3.1, 22.8, dist: 103.33, spd: 0.101, reward: -0.023\n",
      "Step: 50, action: 900.0, 500.0, 500.0, 900.0, position: 3.1, -3.3, 22.7, dist: 103.70, spd: 0.107, reward: -0.024\n",
      "Step: 51, action: 900.0, 500.0, 500.0, 900.0, position: 3.2, -3.5, 22.6, dist: 104.06, spd: 0.114, reward: -0.025\n",
      "Step: 52, action: 900.0, 500.0, 500.0, 900.0, position: 3.2, -3.7, 22.5, dist: 104.44, spd: 0.119, reward: -0.026\n",
      "Step: 53, action: 900.0, 500.0, 500.0, 900.0, position: 3.3, -3.9, 22.4, dist: 104.83, spd: 0.119, reward: -0.028\n",
      "Step: 54, action: 900.0, 500.0, 500.0, 900.0, position: 3.3, -4.2, 22.2, dist: 105.24, spd: 0.117, reward: -0.029\n",
      "Step: 55, action: 900.0, 500.0, 500.0, 900.0, position: 3.4, -4.4, 22.1, dist: 105.66, spd: 0.116, reward: -0.030\n",
      "Step: 56, action: 900.0, 500.0, 500.0, 900.0, position: 3.5, -4.6, 22.0, dist: 106.09, spd: 0.120, reward: -0.031\n",
      "Step: 57, action: 900.0, 500.0, 500.0, 900.0, position: 3.6, -4.9, 21.9, dist: 106.54, spd: 0.126, reward: -0.033\n",
      "Step: 58, action: 900.0, 500.0, 500.0, 900.0, position: 3.7, -5.1, 21.8, dist: 107.01, spd: 0.132, reward: -0.034\n",
      "Step: 59, action: 900.0, 500.0, 500.0, 900.0, position: 3.8, -5.4, 21.6, dist: 107.50, spd: 0.134, reward: -0.036\n",
      "Step: 60, action: 900.0, 500.0, 500.0, 900.0, position: 3.9, -5.6, 21.5, dist: 107.98, spd: 0.130, reward: -0.037\n",
      "Step: 61, action: 900.0, 500.0, 500.0, 900.0, position: 3.9, -5.9, 21.4, dist: 108.46, spd: 0.127, reward: -0.038\n",
      "Step: 62, action: 900.0, 500.0, 500.0, 900.0, position: 4.0, -6.1, 21.2, dist: 108.92, spd: 0.128, reward: -0.040\n",
      "Step: 63, action: 900.0, 500.0, 500.0, 900.0, position: 4.1, -6.4, 21.1, dist: 109.37, spd: 0.133, reward: -0.041\n",
      "Step: 64, action: 900.0, 500.0, 500.0, 900.0, position: 4.1, -6.7, 21.0, dist: 109.83, spd: 0.140, reward: -0.043\n",
      "Step: 65, action: 900.0, 500.0, 500.0, 900.0, position: 4.2, -6.9, 20.8, dist: 110.30, spd: 0.145, reward: -0.044\n",
      "Step: 66, action: 900.0, 500.0, 500.0, 900.0, position: 4.2, -7.2, 20.7, dist: 110.78, spd: 0.147, reward: -0.046\n",
      "Step: 67, action: 900.0, 500.0, 500.0, 900.0, position: 4.3, -7.5, 20.5, dist: 111.28, spd: 0.145, reward: -0.047\n",
      "Step: 68, action: 900.0, 500.0, 500.0, 900.0, position: 4.4, -7.8, 20.4, dist: 111.79, spd: 0.144, reward: -0.049\n",
      "Step: 69, action: 900.0, 500.0, 500.0, 900.0, position: 4.4, -8.1, 20.2, dist: 112.31, spd: 0.147, reward: -0.050\n",
      "Step: 70, action: 900.0, 500.0, 500.0, 900.0, position: 4.5, -8.4, 20.1, dist: 112.85, spd: 0.152, reward: -0.052\n",
      "Step: 71, action: 900.0, 500.0, 500.0, 900.0, position: 4.6, -8.7, 19.9, dist: 113.41, spd: 0.158, reward: -0.053\n",
      "Step: 72, action: 900.0, 500.0, 500.0, 900.0, position: 4.7, -9.0, 19.8, dist: 113.98, spd: 0.160, reward: -0.055\n",
      "Step: 73, action: 900.0, 500.0, 500.0, 900.0, position: 4.8, -9.4, 19.6, dist: 114.55, spd: 0.157, reward: -0.057\n",
      "Step: 74, action: 900.0, 500.0, 500.0, 900.0, position: 4.9, -9.7, 19.5, dist: 115.11, spd: 0.152, reward: -0.058\n",
      "Step: 75, action: 900.0, 500.0, 500.0, 900.0, position: 5.0, -10.0, 19.3, dist: 115.66, spd: 0.153, reward: -0.060\n",
      "Step: 76, action: 900.0, 500.0, 500.0, 900.0, position: 5.0, -10.3, 19.1, dist: 116.20, spd: 0.157, reward: -0.062\n",
      "Step: 77, action: 900.0, 500.0, 500.0, 900.0, position: 5.1, -10.7, 19.0, dist: 116.74, spd: 0.164, reward: -0.063\n",
      "Step: 78, action: 900.0, 500.0, 500.0, 900.0, position: 5.1, -11.0, 18.8, dist: 117.29, spd: 0.169, reward: -0.065\n",
      "Step: 79, action: 900.0, 500.0, 500.0, 900.0, position: 5.2, -11.3, 18.6, dist: 117.85, spd: 0.172, reward: -0.067\n",
      "Step: 80, action: 900.0, 500.0, 500.0, 900.0, position: 5.2, -11.7, 18.5, dist: 118.42, spd: 0.171, reward: -0.069\n",
      "Step: 81, action: 900.0, 500.0, 500.0, 900.0, position: 5.3, -12.0, 18.3, dist: 119.01, spd: 0.170, reward: -0.071\n",
      "Step: 82, action: 900.0, 500.0, 500.0, 900.0, position: 5.3, -12.4, 18.1, dist: 119.62, spd: 0.172, reward: -0.072\n",
      "Step: 83, action: 900.0, 500.0, 500.0, 900.0, position: 5.4, -12.8, 18.0, dist: 120.24, spd: 0.177, reward: -0.074\n",
      "Step: 84, action: 900.0, 500.0, 500.0, 900.0, position: 5.5, -13.1, 17.8, dist: 120.88, spd: 0.182, reward: -0.076\n",
      "Step: 85, action: 900.0, 500.0, 500.0, 900.0, position: 5.6, -13.5, 17.6, dist: 121.52, spd: 0.184, reward: -0.078\n",
      "Step: 86, action: 900.0, 500.0, 500.0, 900.0, position: 5.7, -13.9, 17.4, dist: 122.17, spd: 0.181, reward: -0.080\n",
      "Step: 87, action: 900.0, 500.0, 500.0, 900.0, position: 5.8, -14.3, 17.2, dist: 122.81, spd: 0.176, reward: -0.082\n",
      "Step: 88, action: 900.0, 500.0, 500.0, 900.0, position: 5.8, -14.6, 17.1, dist: 123.43, spd: 0.175, reward: -0.084\n",
      "Step: 89, action: 900.0, 500.0, 500.0, 900.0, position: 5.9, -15.0, 16.9, dist: 124.04, spd: 0.179, reward: -0.086\n",
      "Step: 90, action: 900.0, 500.0, 500.0, 900.0, position: 5.9, -15.4, 16.7, dist: 124.65, spd: 0.186, reward: -0.087\n",
      "Step: 91, action: 900.0, 500.0, 500.0, 900.0, position: 6.0, -15.8, 16.5, dist: 125.27, spd: 0.191, reward: -0.090\n",
      "Step: 92, action: 900.0, 500.0, 500.0, 900.0, position: 6.0, -16.2, 16.3, dist: 125.89, spd: 0.194, reward: -0.092\n",
      "Step: 93, action: 900.0, 500.0, 500.0, 900.0, position: 6.1, -16.6, 16.1, dist: 126.54, spd: 0.194, reward: -0.094\n",
      "Step: 94, action: 900.0, 500.0, 500.0, 900.0, position: 6.1, -17.0, 15.9, dist: 127.20, spd: 0.194, reward: -0.096\n",
      "Step: 95, action: 900.0, 500.0, 500.0, 900.0, position: 6.2, -17.4, 15.7, dist: 127.87, spd: 0.195, reward: -0.098\n",
      "Step: 96, action: 900.0, 500.0, 500.0, 900.0, position: 6.3, -17.8, 15.5, dist: 128.56, spd: 0.199, reward: -0.100\n",
      "Step: 97, action: 900.0, 500.0, 500.0, 900.0, position: 6.4, -18.2, 15.3, dist: 129.27, spd: 0.203, reward: -0.102\n",
      "Step: 98, action: 900.0, 500.0, 500.0, 900.0, position: 6.5, -18.6, 15.1, dist: 129.98, spd: 0.206, reward: -0.104\n",
      "Step: 99, action: 900.0, 500.0, 500.0, 900.0, position: 6.5, -19.1, 14.9, dist: 130.69, spd: 0.203, reward: -0.106\n",
      "Step: 100, action: 900.0, 500.0, 500.0, 900.0, position: 6.6, -19.5, 14.7, dist: 131.39, spd: 0.197, reward: -0.108\n",
      "Step: 101, action: 900.0, 500.0, 500.0, 900.0, position: 6.7, -19.9, 14.5, dist: 132.08, spd: 0.196, reward: -0.110\n",
      "Step: 102, action: 900.0, 500.0, 500.0, 900.0, position: 6.7, -20.3, 14.3, dist: 132.75, spd: 0.199, reward: -0.112\n",
      "Step: 103, action: 900.0, 500.0, 500.0, 900.0, position: 6.8, -20.8, 14.1, dist: 133.42, spd: 0.205, reward: -0.115\n",
      "Step: 104, action: 900.0, 500.0, 500.0, 900.0, position: 6.8, -21.2, 13.9, dist: 134.09, spd: 0.210, reward: -0.117\n",
      "Step: 105, action: 900.0, 500.0, 500.0, 900.0, position: 6.8, -21.6, 13.7, dist: 134.78, spd: 0.214, reward: -0.119\n",
      "Step: 106, action: 900.0, 500.0, 500.0, 900.0, position: 6.9, -22.1, 13.5, dist: 135.48, spd: 0.216, reward: -0.121\n",
      "Step: 107, action: 900.0, 500.0, 500.0, 900.0, position: 6.9, -22.5, 13.3, dist: 136.20, spd: 0.215, reward: -0.124\n",
      "Step: 108, action: 900.0, 500.0, 500.0, 900.0, position: 7.0, -23.0, 13.0, dist: 136.94, spd: 0.215, reward: -0.126\n",
      "Step: 109, action: 900.0, 500.0, 500.0, 900.0, position: 7.1, -23.4, 12.8, dist: 137.69, spd: 0.218, reward: -0.128\n",
      "Step: 110, action: 900.0, 500.0, 500.0, 900.0, position: 7.2, -23.9, 12.6, dist: 138.45, spd: 0.223, reward: -0.131\n",
      "Step: 111, action: 900.0, 500.0, 500.0, 900.0, position: 7.2, -24.4, 12.4, dist: 139.21, spd: 0.225, reward: -0.133\n",
      "Step: 112, action: 900.0, 500.0, 500.0, 900.0, position: 7.3, -24.8, 12.2, dist: 139.98, spd: 0.222, reward: -0.135\n",
      "Step: 113, action: 900.0, 500.0, 500.0, 900.0, position: 7.4, -25.3, 11.9, dist: 140.74, spd: 0.216, reward: -0.138\n",
      "Step: 114, action: 900.0, 500.0, 500.0, 900.0, position: 7.4, -25.8, 11.7, dist: 141.47, spd: 0.214, reward: -0.140\n",
      "Step: 115, action: 900.0, 500.0, 500.0, 900.0, position: 7.5, -26.2, 11.5, dist: 142.20, spd: 0.217, reward: -0.142\n",
      "Step: 116, action: 900.0, 500.0, 500.0, 900.0, position: 7.5, -26.7, 11.3, dist: 142.92, spd: 0.222, reward: -0.144\n",
      "Step: 117, action: 900.0, 500.0, 500.0, 900.0, position: 7.6, -27.1, 11.1, dist: 143.64, spd: 0.227, reward: -0.147\n",
      "Step: 118, action: 900.0, 500.0, 500.0, 900.0, position: 7.6, -27.6, 10.8, dist: 144.38, spd: 0.232, reward: -0.149\n",
      "Step: 119, action: 900.0, 500.0, 500.0, 900.0, position: 7.6, -28.1, 10.6, dist: 145.13, spd: 0.234, reward: -0.152\n",
      "Step: 120, action: 900.0, 500.0, 500.0, 900.0, position: 7.7, -28.6, 10.4, dist: 145.89, spd: 0.234, reward: -0.154\n",
      "Step: 121, action: 900.0, 500.0, 500.0, 900.0, position: 7.7, -29.1, 10.1, dist: 146.68, spd: 0.234, reward: -0.157\n",
      "Step: 122, action: 900.0, 500.0, 500.0, 900.0, position: 7.8, -29.6, 9.9, dist: 147.48, spd: 0.236, reward: -0.159\n",
      "Step: 123, action: 900.0, 500.0, 500.0, 900.0, position: 7.9, -30.1, 9.6, dist: 148.29, spd: 0.240, reward: -0.162\n",
      "Step: 124, action: 900.0, 500.0, 500.0, 900.0, position: 8.0, -30.6, 9.4, dist: 149.10, spd: 0.242, reward: -0.164\n",
      "Step: 125, action: 900.0, 500.0, 500.0, 900.0, position: 8.0, -31.0, 9.2, dist: 149.91, spd: 0.240, reward: -0.167\n",
      "Step: 126, action: 900.0, 500.0, 500.0, 900.0, position: 8.1, -31.6, 8.9, dist: 150.71, spd: 0.234, reward: -0.169\n",
      "Step: 127, action: 900.0, 500.0, 500.0, 900.0, position: 8.1, -32.0, 8.7, dist: 151.50, spd: 0.230, reward: -0.172\n",
      "Step: 128, action: 900.0, 500.0, 500.0, 900.0, position: 8.2, -32.5, 8.5, dist: 152.26, spd: 0.233, reward: -0.174\n",
      "Step: 129, action: 900.0, 500.0, 500.0, 900.0, position: 8.2, -33.0, 8.2, dist: 153.03, spd: 0.237, reward: -0.177\n",
      "Step: 130, action: 900.0, 500.0, 500.0, 900.0, position: 8.3, -33.5, 8.0, dist: 153.79, spd: 0.242, reward: -0.179\n",
      "Step: 131, action: 900.0, 500.0, 500.0, 900.0, position: 8.3, -34.0, 7.7, dist: 154.56, spd: 0.247, reward: -0.182\n",
      "Step: 132, action: 900.0, 500.0, 500.0, 900.0, position: 8.3, -34.5, 7.5, dist: 155.35, spd: 0.250, reward: -0.184\n",
      "Step: 133, action: 900.0, 500.0, 500.0, 900.0, position: 8.4, -35.0, 7.2, dist: 156.16, spd: 0.251, reward: -0.187\n",
      "Step: 134, action: 900.0, 500.0, 500.0, 900.0, position: 8.4, -35.6, 7.0, dist: 156.98, spd: 0.250, reward: -0.190\n",
      "Step: 135, action: 900.0, 500.0, 500.0, 900.0, position: 8.5, -36.1, 6.7, dist: 157.82, spd: 0.252, reward: -0.192\n",
      "Step: 136, action: 900.0, 500.0, 500.0, 900.0, position: 8.5, -36.6, 6.5, dist: 158.67, spd: 0.255, reward: -0.195\n",
      "Step: 137, action: 900.0, 500.0, 500.0, 900.0, position: 8.6, -37.1, 6.2, dist: 159.52, spd: 0.258, reward: -0.198\n",
      "Step: 138, action: 900.0, 500.0, 500.0, 900.0, position: 8.7, -37.7, 6.0, dist: 160.37, spd: 0.255, reward: -0.200\n",
      "Step: 139, action: 900.0, 500.0, 500.0, 900.0, position: 8.7, -38.2, 5.7, dist: 161.21, spd: 0.249, reward: -0.203\n",
      "Step: 140, action: 900.0, 500.0, 500.0, 900.0, position: 8.8, -38.7, 5.5, dist: 162.03, spd: 0.245, reward: -0.205\n",
      "Step: 141, action: 900.0, 500.0, 500.0, 900.0, position: 8.8, -39.2, 5.2, dist: 162.84, spd: 0.246, reward: -0.208\n",
      "Step: 142, action: 900.0, 500.0, 500.0, 900.0, position: 8.9, -39.8, 5.0, dist: 163.63, spd: 0.251, reward: -0.211\n",
      "Step: 143, action: 900.0, 500.0, 500.0, 900.0, position: 8.9, -40.3, 4.7, dist: 164.43, spd: 0.255, reward: -0.213\n",
      "Step: 144, action: 900.0, 500.0, 500.0, 900.0, position: 8.9, -40.8, 4.5, dist: 165.23, spd: 0.261, reward: -0.216\n",
      "Step: 145, action: 900.0, 500.0, 500.0, 900.0, position: 8.9, -41.3, 4.2, dist: 166.05, spd: 0.264, reward: -0.219\n",
      "Step: 146, action: 900.0, 500.0, 500.0, 900.0, position: 9.0, -41.9, 3.9, dist: 166.89, spd: 0.265, reward: -0.222\n",
      "Step: 147, action: 900.0, 500.0, 500.0, 900.0, position: 9.0, -42.4, 3.7, dist: 167.75, spd: 0.265, reward: -0.225\n",
      "Step: 148, action: 900.0, 500.0, 500.0, 900.0, position: 9.1, -42.9, 3.4, dist: 168.62, spd: 0.266, reward: -0.227\n",
      "Step: 149, action: 900.0, 500.0, 500.0, 900.0, position: 9.1, -43.5, 3.1, dist: 169.50, spd: 0.268, reward: -0.230\n",
      "Step: 150, action: 900.0, 500.0, 500.0, 900.0, position: 9.2, -44.0, 2.9, dist: 170.38, spd: 0.271, reward: -0.233\n",
      "Step: 151, action: 900.0, 500.0, 500.0, 900.0, position: 9.3, -44.6, 2.6, dist: 171.26, spd: 0.269, reward: -0.236\n",
      "Step: 152, action: 900.0, 500.0, 500.0, 900.0, position: 9.3, -45.1, 2.3, dist: 172.13, spd: 0.262, reward: -0.239\n",
      "Step: 153, action: 900.0, 500.0, 500.0, 900.0, position: 9.4, -45.7, 2.1, dist: 172.98, spd: 0.258, reward: -0.241\n",
      "Step: 154, action: 900.0, 500.0, 500.0, 900.0, position: 9.4, -46.2, 1.8, dist: 173.82, spd: 0.258, reward: -0.244\n",
      "Step: 155, action: 900.0, 500.0, 500.0, 900.0, position: 9.4, -46.8, 1.6, dist: 174.64, spd: 0.262, reward: -0.247\n",
      "Step: 156, action: 900.0, 500.0, 500.0, 900.0, position: 9.5, -47.3, 1.3, dist: 175.46, spd: 0.267, reward: -0.250\n",
      "Step: 157, action: 900.0, 500.0, 500.0, 900.0, position: 9.5, -47.8, 1.0, dist: 176.29, spd: 0.272, reward: -0.252\n",
      "Step: 158, action: 900.0, 500.0, 500.0, 900.0, position: 9.5, -48.4, 0.7, dist: 177.14, spd: 0.277, reward: -0.255\n",
      "Step: 159, action: 900.0, 500.0, 500.0, 900.0, position: 9.5, -48.9, 0.5, dist: 178.00, spd: 0.278, reward: -0.258\n",
      "Step: 160, action: 900.0, 500.0, 500.0, 900.0, position: 9.6, -49.5, 0.2, dist: 178.88, spd: 0.277, reward: -0.261\n",
      "Step: 161, action: 900.0, 500.0, 500.0, 900.0, position: 9.6, -50.1, 0.0, dist: 179.69, spd: 0.186, reward: -0.263\n"
     ]
    }
   ],
   "source": [
    "positions, actions, rewards, distances, speeds = agent.play()\n",
    "for i in range(len(positions)):\n",
    "    print('Step: %d, action: %.1f, %.1f, %.1f, %.1f, position: %.1f, %.1f, %.1f, dist: %.2f, spd: %.3f, reward: %.3f' % \n",
    "          (i, actions[i][0], actions[i][1], actions[i][2], actions[i][3],\n",
    "           positions[i][0], positions[i][1], positions[i][2], distances[i], speeds[i], rewards[i]))"
   ]
  },
  {
   "cell_type": "code",
   "execution_count": 3,
   "metadata": {},
   "outputs": [
    {
     "data": {
      "text/plain": [
       "<Figure size 2000x500 with 1 Axes>"
      ]
     },
     "metadata": {},
     "output_type": "display_data"
    }
   ],
   "source": [
    "import matplotlib.pyplot as plt\n",
    "fig = plt.figure('Rewards', figsize=[20,5])\n",
    "plt.title('Rewards', size=20)\n",
    "plt.plot(np.arange(0, len(rewards), 1), rewards)\n",
    "plt.show()"
   ]
  },
  {
   "cell_type": "code",
   "execution_count": null,
   "metadata": {},
   "outputs": [],
   "source": []
  },
  {
   "cell_type": "code",
   "execution_count": 3,
   "metadata": {},
   "outputs": [
    {
     "name": "stdout",
     "output_type": "stream",
     "text": [
      "Step: 0, action: 900.0, 900.0, 900.0, 900.0, position: 0.0, 0.0, 10.0, reward: 0.000.\n",
      "Step: 1, action: 900.0, 900.0, 900.0, 900.0, position: 0.0, 0.0, 10.0, reward: 0.912.\n",
      "Step: 2, action: 900.0, 900.0, 900.0, 900.0, position: 0.0, 0.0, 10.0, reward: 0.824.\n",
      "Step: 3, action: 900.0, 900.0, 900.0, 900.0, position: 0.0, 0.0, 10.1, reward: 0.735.\n",
      "Step: 4, action: 900.0, 900.0, 900.0, 900.0, position: 0.0, 0.0, 10.1, reward: 0.647.\n",
      "Step: 5, action: 900.0, 900.0, 900.0, 900.0, position: 0.0, 0.0, 10.2, reward: 0.560.\n",
      "Step: 6, action: 900.0, 900.0, 900.0, 900.0, position: 0.0, 0.0, 10.3, reward: 0.472.\n",
      "Step: 7, action: 900.0, 900.0, 900.0, 900.0, position: 0.0, 0.0, 10.4, reward: 0.384.\n",
      "Step: 8, action: 900.0, 900.0, 900.0, 900.0, position: 0.0, 0.0, 10.5, reward: 0.297.\n",
      "Step: 9, action: 900.0, 900.0, 900.0, 900.0, position: 0.0, 0.0, 10.6, reward: 0.210.\n",
      "Step: 10, action: 900.0, 900.0, 900.0, 900.0, position: 0.0, 0.0, 10.8, reward: 0.123.\n",
      "Step: 11, action: 900.0, 900.0, 900.0, 900.0, position: 0.0, 0.0, 10.9, reward: 0.036.\n",
      "Step: 12, action: 900.0, 900.0, 900.0, 900.0, position: 0.0, 0.0, 11.1, reward: -0.050.\n",
      "Step: 13, action: 900.0, 900.0, 900.0, 900.0, position: 0.0, 0.0, 11.3, reward: -0.136.\n",
      "Step: 14, action: 900.0, 900.0, 900.0, 900.0, position: 0.0, 0.0, 11.5, reward: -0.222.\n",
      "Step: 15, action: 900.0, 900.0, 900.0, 900.0, position: 0.0, 0.0, 11.7, reward: -0.307.\n",
      "Step: 16, action: 900.0, 900.0, 900.0, 900.0, position: 0.0, 0.0, 11.9, reward: -0.391.\n",
      "Step: 17, action: 900.0, 900.0, 900.0, 900.0, position: 0.0, 0.0, 12.2, reward: -0.476.\n",
      "Step: 18, action: 900.0, 900.0, 900.0, 900.0, position: 0.0, 0.0, 12.4, reward: -0.559.\n",
      "Step: 19, action: 900.0, 900.0, 900.0, 900.0, position: 0.0, 0.0, 12.7, reward: -0.643.\n",
      "Step: 20, action: 900.0, 900.0, 900.0, 900.0, position: 0.0, 0.0, 13.0, reward: -0.725.\n",
      "Step: 21, action: 900.0, 900.0, 900.0, 900.0, position: 0.0, 0.0, 13.3, reward: -0.807.\n",
      "Step: 22, action: 900.0, 900.0, 900.0, 900.0, position: 0.0, 0.0, 13.6, reward: -0.889.\n",
      "Step: 23, action: 900.0, 900.0, 900.0, 900.0, position: 0.0, 0.0, 13.9, reward: -0.970.\n",
      "Step: 24, action: 900.0, 900.0, 900.0, 900.0, position: 0.0, 0.0, 14.2, reward: -1.051.\n",
      "Step: 25, action: 900.0, 900.0, 900.0, 900.0, position: 0.0, 0.0, 14.5, reward: -1.131.\n",
      "Step: 26, action: 900.0, 900.0, 900.0, 900.0, position: 0.0, 0.0, 14.9, reward: -1.210.\n",
      "Step: 27, action: 900.0, 900.0, 900.0, 900.0, position: 0.0, 0.0, 15.2, reward: -1.288.\n",
      "Step: 28, action: 900.0, 900.0, 900.0, 900.0, position: 0.0, 0.0, 15.6, reward: -1.366.\n",
      "Step: 29, action: 900.0, 900.0, 900.0, 900.0, position: 0.0, 0.0, 16.0, reward: -1.444.\n",
      "Step: 30, action: 900.0, 900.0, 900.0, 900.0, position: 0.0, 0.0, 16.4, reward: -1.521.\n",
      "Step: 31, action: 900.0, 900.0, 900.0, 900.0, position: 0.0, 0.0, 16.7, reward: -1.597.\n",
      "Step: 32, action: 900.0, 900.0, 900.0, 900.0, position: 0.0, 0.0, 17.1, reward: -1.672.\n",
      "Step: 33, action: 900.0, 900.0, 900.0, 900.0, position: 0.0, 0.0, 17.5, reward: -1.747.\n",
      "Step: 34, action: 900.0, 900.0, 900.0, 900.0, position: 0.0, 0.0, 18.0, reward: -1.821.\n",
      "Step: 35, action: 900.0, 900.0, 900.0, 900.0, position: 0.0, 0.0, 18.4, reward: -1.895.\n",
      "Step: 36, action: 900.0, 900.0, 900.0, 900.0, position: 0.0, 0.0, 18.8, reward: -1.968.\n",
      "Step: 37, action: 900.0, 900.0, 900.0, 900.0, position: 0.0, 0.0, 19.2, reward: -2.040.\n",
      "Step: 38, action: 900.0, 900.0, 900.0, 900.0, position: 0.0, 0.0, 19.7, reward: -2.111.\n",
      "Step: 39, action: 900.0, 900.0, 900.0, 900.0, position: 0.0, 0.0, 20.1, reward: -2.182.\n",
      "Step: 40, action: 900.0, 900.0, 900.0, 900.0, position: 0.0, 0.0, 20.6, reward: -2.252.\n",
      "Step: 41, action: 900.0, 900.0, 900.0, 900.0, position: 0.0, 0.0, 21.0, reward: -2.322.\n",
      "Step: 42, action: 900.0, 900.0, 900.0, 900.0, position: 0.0, 0.0, 21.5, reward: -2.391.\n",
      "Step: 43, action: 900.0, 900.0, 900.0, 900.0, position: 0.0, 0.0, 22.0, reward: -2.459.\n",
      "Step: 44, action: 900.0, 900.0, 900.0, 900.0, position: 0.0, 0.0, 22.4, reward: -2.527.\n",
      "Step: 45, action: 900.0, 900.0, 900.0, 900.0, position: 0.0, 0.0, 22.9, reward: -2.594.\n",
      "Step: 46, action: 900.0, 900.0, 900.0, 900.0, position: 0.0, 0.0, 23.4, reward: -2.660.\n",
      "Step: 47, action: 900.0, 900.0, 900.0, 900.0, position: 0.0, 0.0, 23.9, reward: -2.726.\n",
      "Step: 48, action: 900.0, 900.0, 900.0, 900.0, position: 0.0, 0.0, 24.4, reward: -2.791.\n",
      "Step: 49, action: 900.0, 900.0, 900.0, 900.0, position: 0.0, 0.0, 24.9, reward: -2.856.\n",
      "Step: 50, action: 900.0, 900.0, 900.0, 900.0, position: 0.0, 0.0, 25.4, reward: -2.920.\n",
      "Step: 51, action: 900.0, 900.0, 900.0, 900.0, position: 0.0, 0.0, 25.9, reward: -2.983.\n",
      "Step: 52, action: 900.0, 900.0, 900.0, 900.0, position: 0.0, 0.0, 26.4, reward: -3.046.\n",
      "Step: 53, action: 900.0, 900.0, 900.0, 900.0, position: 0.0, 0.0, 26.9, reward: -3.108.\n",
      "Step: 54, action: 900.0, 900.0, 900.0, 900.0, position: 0.0, 0.0, 27.4, reward: -3.170.\n",
      "Step: 55, action: 900.0, 900.0, 900.0, 900.0, position: 0.0, 0.0, 27.9, reward: -3.231.\n",
      "Step: 56, action: 900.0, 900.0, 900.0, 900.0, position: 0.0, 0.0, 28.4, reward: -3.291.\n",
      "Step: 57, action: 900.0, 900.0, 900.0, 900.0, position: 0.0, 0.0, 28.9, reward: -3.351.\n",
      "Step: 58, action: 900.0, 900.0, 900.0, 900.0, position: 0.0, 0.0, 29.5, reward: -3.410.\n",
      "Step: 59, action: 900.0, 900.0, 900.0, 900.0, position: 0.0, 0.0, 30.0, reward: -3.469.\n",
      "Step: 60, action: 900.0, 900.0, 900.0, 900.0, position: 0.0, 0.0, 30.5, reward: -3.528.\n",
      "Step: 61, action: 900.0, 900.0, 900.0, 900.0, position: 0.0, 0.0, 31.0, reward: -3.585.\n",
      "Step: 62, action: 900.0, 900.0, 900.0, 900.0, position: 0.0, 0.0, 31.6, reward: -3.643.\n",
      "Step: 63, action: 900.0, 900.0, 900.0, 900.0, position: 0.0, 0.0, 32.1, reward: -3.700.\n",
      "Step: 64, action: 900.0, 900.0, 900.0, 900.0, position: 0.0, 0.0, 32.6, reward: -3.756.\n",
      "Step: 65, action: 900.0, 900.0, 900.0, 900.0, position: 0.0, 0.0, 33.2, reward: -3.812.\n",
      "Step: 66, action: 900.0, 900.0, 900.0, 900.0, position: 0.0, 0.0, 33.7, reward: -3.867.\n",
      "Step: 67, action: 900.0, 900.0, 900.0, 900.0, position: 0.0, 0.0, 34.2, reward: -3.922.\n",
      "Step: 68, action: 900.0, 900.0, 900.0, 900.0, position: 0.0, 0.0, 34.8, reward: -3.976.\n",
      "Step: 69, action: 900.0, 900.0, 900.0, 900.0, position: 0.0, 0.0, 35.3, reward: -4.030.\n",
      "Step: 70, action: 900.0, 900.0, 900.0, 900.0, position: 0.0, 0.0, 35.8, reward: -4.084.\n",
      "Step: 71, action: 900.0, 900.0, 900.0, 900.0, position: 0.0, 0.0, 36.4, reward: -4.137.\n",
      "Step: 72, action: 900.0, 900.0, 900.0, 900.0, position: 0.0, 0.0, 36.9, reward: -4.190.\n",
      "Step: 73, action: 900.0, 900.0, 900.0, 900.0, position: 0.0, 0.0, 37.5, reward: -4.242.\n",
      "Step: 74, action: 900.0, 900.0, 900.0, 900.0, position: 0.0, 0.0, 38.0, reward: -4.294.\n",
      "Step: 75, action: 900.0, 900.0, 900.0, 900.0, position: 0.0, 0.0, 38.6, reward: -4.345.\n",
      "Step: 76, action: 900.0, 900.0, 900.0, 900.0, position: 0.0, 0.0, 39.1, reward: -4.396.\n",
      "Step: 77, action: 900.0, 900.0, 900.0, 900.0, position: 0.0, 0.0, 39.7, reward: -4.447.\n",
      "Step: 78, action: 900.0, 900.0, 900.0, 900.0, position: 0.0, 0.0, 40.2, reward: -4.497.\n",
      "Step: 79, action: 900.0, 900.0, 900.0, 900.0, position: 0.0, 0.0, 40.8, reward: -4.547.\n",
      "Step: 80, action: 900.0, 900.0, 900.0, 900.0, position: 0.0, 0.0, 41.3, reward: -4.596.\n",
      "Step: 81, action: 900.0, 900.0, 900.0, 900.0, position: 0.0, 0.0, 41.9, reward: -4.645.\n",
      "Step: 82, action: 900.0, 900.0, 900.0, 900.0, position: 0.0, 0.0, 42.4, reward: -4.694.\n",
      "Step: 83, action: 900.0, 900.0, 900.0, 900.0, position: 0.0, 0.0, 43.0, reward: -4.742.\n",
      "Step: 84, action: 900.0, 900.0, 900.0, 900.0, position: 0.0, 0.0, 43.5, reward: -4.790.\n",
      "Step: 85, action: 900.0, 900.0, 900.0, 900.0, position: 0.0, 0.0, 44.1, reward: -4.838.\n",
      "Step: 86, action: 900.0, 900.0, 900.0, 900.0, position: 0.0, 0.0, 44.6, reward: -4.885.\n",
      "Step: 87, action: 900.0, 900.0, 900.0, 900.0, position: 0.0, 0.0, 45.2, reward: -4.932.\n",
      "Step: 88, action: 900.0, 900.0, 900.0, 900.0, position: 0.0, 0.0, 45.7, reward: -4.979.\n",
      "Step: 89, action: 900.0, 900.0, 900.0, 900.0, position: 0.0, 0.0, 46.3, reward: -5.025.\n",
      "Step: 90, action: 900.0, 900.0, 900.0, 900.0, position: 0.0, 0.0, 46.9, reward: -5.071.\n",
      "Step: 91, action: 900.0, 900.0, 900.0, 900.0, position: 0.0, 0.0, 47.4, reward: -5.117.\n",
      "Step: 92, action: 900.0, 900.0, 900.0, 900.0, position: 0.0, 0.0, 48.0, reward: -5.162.\n",
      "Step: 93, action: 900.0, 900.0, 900.0, 900.0, position: 0.0, 0.0, 48.5, reward: -5.207.\n",
      "Step: 94, action: 900.0, 900.0, 900.0, 900.0, position: 0.0, 0.0, 49.1, reward: -5.252.\n",
      "Step: 95, action: 900.0, 900.0, 900.0, 900.0, position: 0.0, 0.0, 49.6, reward: -5.296.\n",
      "Step: 96, action: 900.0, 900.0, 900.0, 900.0, position: 0.0, 0.0, 50.2, reward: -5.340.\n",
      "Step: 97, action: 900.0, 900.0, 900.0, 900.0, position: 0.0, 0.0, 50.8, reward: -5.384.\n",
      "Step: 98, action: 900.0, 900.0, 900.0, 900.0, position: 0.0, 0.0, 51.3, reward: -5.428.\n",
      "Step: 99, action: 900.0, 900.0, 900.0, 900.0, position: 0.0, 0.0, 51.9, reward: -5.471.\n",
      "Step: 100, action: 900.0, 900.0, 900.0, 900.0, position: 0.0, 0.0, 52.4, reward: -5.514.\n",
      "Step: 101, action: 900.0, 900.0, 900.0, 900.0, position: 0.0, 0.0, 53.0, reward: -5.557.\n",
      "Step: 102, action: 900.0, 900.0, 900.0, 900.0, position: 0.0, 0.0, 53.6, reward: -5.600.\n",
      "Step: 103, action: 900.0, 900.0, 900.0, 900.0, position: 0.0, 0.0, 54.1, reward: -5.642.\n",
      "Step: 104, action: 900.0, 900.0, 900.0, 900.0, position: 0.0, 0.0, 54.7, reward: -5.684.\n",
      "Step: 105, action: 900.0, 900.0, 900.0, 900.0, position: 0.0, 0.0, 55.2, reward: -5.726.\n",
      "Step: 106, action: 900.0, 900.0, 900.0, 900.0, position: 0.0, 0.0, 55.8, reward: -5.767.\n",
      "Step: 107, action: 900.0, 900.0, 900.0, 900.0, position: 0.0, 0.0, 56.4, reward: -5.809.\n",
      "Step: 108, action: 900.0, 900.0, 900.0, 900.0, position: 0.0, 0.0, 56.9, reward: -5.850.\n",
      "Step: 109, action: 900.0, 900.0, 900.0, 900.0, position: 0.0, 0.0, 57.5, reward: -5.891.\n",
      "Step: 110, action: 900.0, 900.0, 900.0, 900.0, position: 0.0, 0.0, 58.0, reward: -5.931.\n",
      "Step: 111, action: 900.0, 900.0, 900.0, 900.0, position: 0.0, 0.0, 58.6, reward: -5.972.\n",
      "Step: 112, action: 900.0, 900.0, 900.0, 900.0, position: 0.0, 0.0, 59.2, reward: -6.012.\n",
      "Step: 113, action: 900.0, 900.0, 900.0, 900.0, position: 0.0, 0.0, 59.7, reward: -6.052.\n",
      "Step: 114, action: 900.0, 900.0, 900.0, 900.0, position: 0.0, 0.0, 60.3, reward: -6.091.\n",
      "Step: 115, action: 900.0, 900.0, 900.0, 900.0, position: 0.0, 0.0, 60.9, reward: -6.131.\n",
      "Step: 116, action: 900.0, 900.0, 900.0, 900.0, position: 0.0, 0.0, 61.4, reward: -6.170.\n",
      "Step: 117, action: 900.0, 900.0, 900.0, 900.0, position: 0.0, 0.0, 62.0, reward: -6.209.\n",
      "Step: 118, action: 900.0, 900.0, 900.0, 900.0, position: 0.0, 0.0, 62.5, reward: -6.248.\n",
      "Step: 119, action: 900.0, 900.0, 900.0, 900.0, position: 0.0, 0.0, 63.1, reward: -6.287.\n",
      "Step: 120, action: 900.0, 900.0, 900.0, 900.0, position: 0.0, 0.0, 63.7, reward: -6.325.\n",
      "Step: 121, action: 900.0, 900.0, 900.0, 900.0, position: 0.0, 0.0, 64.2, reward: -6.364.\n",
      "Step: 122, action: 900.0, 900.0, 900.0, 900.0, position: 0.0, 0.0, 64.8, reward: -6.402.\n",
      "Step: 123, action: 900.0, 900.0, 900.0, 900.0, position: 0.0, 0.0, 65.3, reward: -6.440.\n",
      "Step: 124, action: 900.0, 900.0, 900.0, 900.0, position: 0.0, 0.0, 65.9, reward: -6.477.\n",
      "Step: 125, action: 900.0, 900.0, 900.0, 900.0, position: 0.0, 0.0, 66.5, reward: -6.515.\n",
      "Step: 126, action: 900.0, 900.0, 900.0, 900.0, position: 0.0, 0.0, 67.0, reward: -6.552.\n",
      "Step: 127, action: 900.0, 900.0, 900.0, 900.0, position: 0.0, 0.0, 67.6, reward: -6.589.\n",
      "Step: 128, action: 900.0, 900.0, 900.0, 900.0, position: 0.0, 0.0, 68.2, reward: -6.626.\n",
      "Step: 129, action: 900.0, 900.0, 900.0, 900.0, position: 0.0, 0.0, 68.7, reward: -6.663.\n",
      "Step: 130, action: 900.0, 900.0, 900.0, 900.0, position: 0.0, 0.0, 69.3, reward: -6.700.\n",
      "Step: 131, action: 900.0, 900.0, 900.0, 900.0, position: 0.0, 0.0, 69.8, reward: -6.736.\n",
      "Step: 132, action: 900.0, 900.0, 900.0, 900.0, position: 0.0, 0.0, 70.4, reward: -6.773.\n",
      "Step: 133, action: 900.0, 900.0, 900.0, 900.0, position: 0.0, 0.0, 71.0, reward: -6.809.\n",
      "Step: 134, action: 900.0, 900.0, 900.0, 900.0, position: 0.0, 0.0, 71.5, reward: -6.845.\n",
      "Step: 135, action: 900.0, 900.0, 900.0, 900.0, position: 0.0, 0.0, 72.1, reward: -6.880.\n",
      "Step: 136, action: 900.0, 900.0, 900.0, 900.0, position: 0.0, 0.0, 72.7, reward: -6.916.\n",
      "Step: 137, action: 900.0, 900.0, 900.0, 900.0, position: 0.0, 0.0, 73.2, reward: -6.952.\n",
      "Step: 138, action: 900.0, 900.0, 900.0, 900.0, position: 0.0, 0.0, 73.8, reward: -6.987.\n",
      "Step: 139, action: 900.0, 900.0, 900.0, 900.0, position: 0.0, 0.0, 74.4, reward: -7.022.\n",
      "Step: 140, action: 900.0, 900.0, 900.0, 900.0, position: 0.0, 0.0, 74.9, reward: -7.057.\n",
      "Step: 141, action: 900.0, 900.0, 900.0, 900.0, position: 0.0, 0.0, 75.5, reward: -7.092.\n",
      "Step: 142, action: 900.0, 900.0, 900.0, 900.0, position: 0.0, 0.0, 76.0, reward: -7.127.\n",
      "Step: 143, action: 900.0, 900.0, 900.0, 900.0, position: 0.0, 0.0, 76.6, reward: -7.161.\n",
      "Step: 144, action: 900.0, 900.0, 900.0, 900.0, position: 0.0, 0.0, 77.2, reward: -7.196.\n",
      "Step: 145, action: 900.0, 900.0, 900.0, 900.0, position: 0.0, 0.0, 77.7, reward: -7.230.\n",
      "Step: 146, action: 900.0, 900.0, 900.0, 900.0, position: 0.0, 0.0, 78.3, reward: -7.264.\n",
      "Step: 147, action: 900.0, 900.0, 900.0, 900.0, position: 0.0, 0.0, 78.9, reward: -7.298.\n",
      "Step: 148, action: 900.0, 900.0, 900.0, 900.0, position: 0.0, 0.0, 79.4, reward: -7.332.\n",
      "Step: 149, action: 900.0, 900.0, 900.0, 900.0, position: 0.0, 0.0, 80.0, reward: -7.366.\n",
      "Step: 150, action: 900.0, 900.0, 900.0, 900.0, position: 0.0, 0.0, 80.5, reward: -7.399.\n",
      "Step: 151, action: 900.0, 900.0, 900.0, 900.0, position: 0.0, 0.0, 81.1, reward: -7.433.\n",
      "Step: 152, action: 900.0, 900.0, 900.0, 900.0, position: 0.0, 0.0, 81.7, reward: -7.466.\n",
      "Step: 153, action: 900.0, 900.0, 900.0, 900.0, position: 0.0, 0.0, 82.2, reward: -7.499.\n",
      "Step: 154, action: 900.0, 900.0, 900.0, 900.0, position: 0.0, 0.0, 82.8, reward: -7.532.\n",
      "Step: 155, action: 900.0, 900.0, 900.0, 900.0, position: 0.0, 0.0, 83.4, reward: -7.565.\n",
      "Step: 156, action: 900.0, 900.0, 900.0, 900.0, position: 0.0, 0.0, 83.9, reward: -7.598.\n",
      "Step: 157, action: 900.0, 900.0, 900.0, 900.0, position: 0.0, 0.0, 84.5, reward: -7.631.\n",
      "Step: 158, action: 900.0, 900.0, 900.0, 900.0, position: 0.0, 0.0, 85.1, reward: -7.663.\n",
      "Step: 159, action: 900.0, 900.0, 900.0, 900.0, position: 0.0, 0.0, 85.6, reward: -7.696.\n",
      "Step: 160, action: 900.0, 900.0, 900.0, 900.0, position: 0.0, 0.0, 86.2, reward: -7.728.\n",
      "Step: 161, action: 900.0, 900.0, 900.0, 900.0, position: 0.0, 0.0, 86.7, reward: -7.760.\n",
      "Step: 162, action: 900.0, 900.0, 900.0, 900.0, position: 0.0, 0.0, 87.3, reward: -7.793.\n",
      "Step: 163, action: 900.0, 900.0, 900.0, 900.0, position: 0.0, 0.0, 87.9, reward: -7.825.\n",
      "Step: 164, action: 900.0, 900.0, 900.0, 900.0, position: 0.0, 0.0, 88.4, reward: -7.856.\n",
      "Step: 165, action: 900.0, 900.0, 900.0, 900.0, position: 0.0, 0.0, 89.0, reward: -7.888.\n",
      "Step: 166, action: 900.0, 900.0, 900.0, 900.0, position: 0.0, 0.0, 89.6, reward: -7.920.\n",
      "Step: 167, action: 900.0, 900.0, 900.0, 900.0, position: 0.0, 0.0, 90.1, reward: -7.951.\n",
      "Step: 168, action: 900.0, 900.0, 900.0, 900.0, position: 0.0, 0.0, 90.7, reward: -7.983.\n",
      "Step: 169, action: 900.0, 900.0, 900.0, 900.0, position: 0.0, 0.0, 91.3, reward: -8.014.\n",
      "Step: 170, action: 900.0, 900.0, 900.0, 900.0, position: 0.0, 0.0, 91.8, reward: -8.045.\n",
      "Step: 171, action: 900.0, 900.0, 900.0, 900.0, position: 0.0, 0.0, 92.4, reward: -8.076.\n",
      "Step: 172, action: 900.0, 900.0, 900.0, 900.0, position: 0.0, 0.0, 92.9, reward: -8.107.\n",
      "Step: 173, action: 900.0, 900.0, 900.0, 900.0, position: 0.0, 0.0, 93.5, reward: -8.138.\n",
      "Step: 174, action: 900.0, 900.0, 900.0, 900.0, position: 0.0, 0.0, 94.1, reward: -8.169.\n",
      "Step: 175, action: 900.0, 900.0, 900.0, 900.0, position: 0.0, 0.0, 94.6, reward: -8.200.\n",
      "Step: 176, action: 900.0, 900.0, 900.0, 900.0, position: 0.0, 0.0, 95.2, reward: -8.230.\n",
      "Step: 177, action: 900.0, 900.0, 900.0, 900.0, position: 0.0, 0.0, 95.8, reward: -8.261.\n",
      "Step: 178, action: 900.0, 900.0, 900.0, 900.0, position: 0.0, 0.0, 96.3, reward: -8.291.\n",
      "Step: 179, action: 900.0, 900.0, 900.0, 900.0, position: 0.0, 0.0, 96.9, reward: -8.321.\n",
      "Step: 180, action: 900.0, 900.0, 900.0, 900.0, position: 0.0, 0.0, 97.5, reward: -8.352.\n",
      "Step: 181, action: 900.0, 900.0, 900.0, 900.0, position: 0.0, 0.0, 98.0, reward: -8.382.\n",
      "Step: 182, action: 900.0, 900.0, 900.0, 900.0, position: 0.0, 0.0, 98.6, reward: -8.412.\n",
      "Step: 183, action: 900.0, 900.0, 900.0, 900.0, position: 0.0, 0.0, 99.1, reward: -8.442.\n",
      "Step: 184, action: 900.0, 900.0, 900.0, 900.0, position: 0.0, 0.0, 99.7, reward: -8.471.\n",
      "Step: 185, action: 900.0, 900.0, 900.0, 900.0, position: 0.0, 0.0, 100.3, reward: -8.501.\n",
      "Step: 186, action: 900.0, 900.0, 900.0, 900.0, position: 0.0, 0.0, 100.8, reward: -8.531.\n",
      "Step: 187, action: 900.0, 900.0, 900.0, 900.0, position: 0.0, 0.0, 101.4, reward: -8.560.\n",
      "Step: 188, action: 900.0, 900.0, 900.0, 900.0, position: 0.0, 0.0, 102.0, reward: -8.590.\n",
      "Step: 189, action: 900.0, 900.0, 900.0, 900.0, position: 0.0, 0.0, 102.5, reward: -8.619.\n",
      "Step: 190, action: 900.0, 900.0, 900.0, 900.0, position: 0.0, 0.0, 103.1, reward: -8.648.\n",
      "Step: 191, action: 900.0, 900.0, 900.0, 900.0, position: 0.0, 0.0, 103.7, reward: -8.677.\n",
      "Step: 192, action: 900.0, 900.0, 900.0, 900.0, position: 0.0, 0.0, 104.2, reward: -8.706.\n",
      "Step: 193, action: 900.0, 900.0, 900.0, 900.0, position: 0.0, 0.0, 104.8, reward: -8.735.\n",
      "Step: 194, action: 900.0, 900.0, 900.0, 900.0, position: 0.0, 0.0, 105.3, reward: -8.764.\n",
      "Step: 195, action: 900.0, 900.0, 900.0, 900.0, position: 0.0, 0.0, 105.9, reward: -8.793.\n",
      "Step: 196, action: 900.0, 900.0, 900.0, 900.0, position: 0.0, 0.0, 106.5, reward: -8.822.\n",
      "Step: 197, action: 900.0, 900.0, 900.0, 900.0, position: 0.0, 0.0, 107.0, reward: -8.850.\n",
      "Step: 198, action: 900.0, 900.0, 900.0, 900.0, position: 0.0, 0.0, 107.6, reward: -8.879.\n",
      "Step: 199, action: 900.0, 900.0, 900.0, 900.0, position: 0.0, 0.0, 108.2, reward: -8.908.\n",
      "Step: 200, action: 900.0, 900.0, 900.0, 900.0, position: 0.0, 0.0, 108.7, reward: -8.936.\n",
      "Step: 201, action: 900.0, 900.0, 900.0, 900.0, position: 0.0, 0.0, 109.3, reward: -8.964.\n",
      "Step: 202, action: 900.0, 900.0, 900.0, 900.0, position: 0.0, 0.0, 109.8, reward: -8.992.\n",
      "Step: 203, action: 900.0, 900.0, 900.0, 900.0, position: 0.0, 0.0, 110.4, reward: -9.021.\n",
      "Step: 204, action: 900.0, 900.0, 900.0, 900.0, position: 0.0, 0.0, 111.0, reward: -9.049.\n",
      "Step: 205, action: 900.0, 900.0, 900.0, 900.0, position: 0.0, 0.0, 111.5, reward: -9.077.\n",
      "Step: 206, action: 900.0, 900.0, 900.0, 900.0, position: 0.0, 0.0, 112.1, reward: -9.105.\n",
      "Step: 207, action: 900.0, 900.0, 900.0, 900.0, position: 0.0, 0.0, 112.7, reward: -9.132.\n",
      "Step: 208, action: 900.0, 900.0, 900.0, 900.0, position: 0.0, 0.0, 113.2, reward: -9.160.\n",
      "Step: 209, action: 900.0, 900.0, 900.0, 900.0, position: 0.0, 0.0, 113.8, reward: -9.188.\n",
      "Step: 210, action: 900.0, 900.0, 900.0, 900.0, position: 0.0, 0.0, 114.4, reward: -9.216.\n",
      "Step: 211, action: 900.0, 900.0, 900.0, 900.0, position: 0.0, 0.0, 114.9, reward: -9.243.\n",
      "Step: 212, action: 900.0, 900.0, 900.0, 900.0, position: 0.0, 0.0, 115.5, reward: -9.271.\n",
      "Step: 213, action: 900.0, 900.0, 900.0, 900.0, position: 0.0, 0.0, 116.0, reward: -9.298.\n",
      "Step: 214, action: 900.0, 900.0, 900.0, 900.0, position: 0.0, 0.0, 116.6, reward: -9.325.\n",
      "Step: 215, action: 900.0, 900.0, 900.0, 900.0, position: 0.0, 0.0, 117.2, reward: -9.353.\n",
      "Step: 216, action: 900.0, 900.0, 900.0, 900.0, position: 0.0, 0.0, 117.7, reward: -9.380.\n",
      "Step: 217, action: 900.0, 900.0, 900.0, 900.0, position: 0.0, 0.0, 118.3, reward: -9.407.\n",
      "Step: 218, action: 900.0, 900.0, 900.0, 900.0, position: 0.0, 0.0, 118.9, reward: -9.434.\n",
      "Step: 219, action: 900.0, 900.0, 900.0, 900.0, position: 0.0, 0.0, 119.4, reward: -9.461.\n",
      "Step: 220, action: 900.0, 900.0, 900.0, 900.0, position: 0.0, 0.0, 120.0, reward: -9.488.\n",
      "Step: 221, action: 900.0, 900.0, 900.0, 900.0, position: 0.0, 0.0, 120.6, reward: -9.515.\n",
      "Step: 222, action: 900.0, 900.0, 900.0, 900.0, position: 0.0, 0.0, 121.1, reward: -9.541.\n",
      "Step: 223, action: 900.0, 900.0, 900.0, 900.0, position: 0.0, 0.0, 121.7, reward: -9.568.\n",
      "Step: 224, action: 900.0, 900.0, 900.0, 900.0, position: 0.0, 0.0, 122.2, reward: -9.595.\n",
      "Step: 225, action: 900.0, 900.0, 900.0, 900.0, position: 0.0, 0.0, 122.8, reward: -9.621.\n",
      "Step: 226, action: 900.0, 900.0, 900.0, 900.0, position: 0.0, 0.0, 123.4, reward: -9.648.\n",
      "Step: 227, action: 900.0, 900.0, 900.0, 900.0, position: 0.0, 0.0, 123.9, reward: -9.674.\n",
      "Step: 228, action: 900.0, 900.0, 900.0, 900.0, position: 0.0, 0.0, 124.5, reward: -9.701.\n",
      "Step: 229, action: 900.0, 900.0, 900.0, 900.0, position: 0.0, 0.0, 125.1, reward: -9.727.\n",
      "Step: 230, action: 900.0, 900.0, 900.0, 900.0, position: 0.0, 0.0, 125.6, reward: -9.753.\n",
      "Step: 231, action: 900.0, 900.0, 900.0, 900.0, position: 0.0, 0.0, 126.2, reward: -9.779.\n",
      "Step: 232, action: 900.0, 900.0, 900.0, 900.0, position: 0.0, 0.0, 126.8, reward: -9.805.\n",
      "Step: 233, action: 900.0, 900.0, 900.0, 900.0, position: 0.0, 0.0, 127.3, reward: -9.831.\n",
      "Step: 234, action: 900.0, 900.0, 900.0, 900.0, position: 0.0, 0.0, 127.9, reward: -9.857.\n",
      "Step: 235, action: 900.0, 900.0, 900.0, 900.0, position: 0.0, 0.0, 128.4, reward: -9.883.\n",
      "Step: 236, action: 900.0, 900.0, 900.0, 900.0, position: 0.0, 0.0, 129.0, reward: -9.909.\n",
      "Step: 237, action: 900.0, 900.0, 900.0, 900.0, position: 0.0, 0.0, 129.6, reward: -9.935.\n",
      "Step: 238, action: 900.0, 900.0, 900.0, 900.0, position: 0.0, 0.0, 130.1, reward: -9.961.\n",
      "Step: 239, action: 900.0, 900.0, 900.0, 900.0, position: 0.0, 0.0, 130.7, reward: -9.986.\n",
      "Step: 240, action: 900.0, 900.0, 900.0, 900.0, position: 0.0, 0.0, 131.3, reward: -10.012.\n",
      "Step: 241, action: 900.0, 900.0, 900.0, 900.0, position: 0.0, 0.0, 131.8, reward: -10.038.\n",
      "Step: 242, action: 900.0, 900.0, 900.0, 900.0, position: 0.0, 0.0, 132.4, reward: -10.063.\n",
      "Step: 243, action: 900.0, 900.0, 900.0, 900.0, position: 0.0, 0.0, 133.0, reward: -10.089.\n",
      "Step: 244, action: 900.0, 900.0, 900.0, 900.0, position: 0.0, 0.0, 133.5, reward: -10.114.\n",
      "Step: 245, action: 900.0, 900.0, 900.0, 900.0, position: 0.0, 0.0, 134.1, reward: -10.139.\n",
      "Step: 246, action: 900.0, 900.0, 900.0, 900.0, position: 0.0, 0.0, 134.6, reward: -10.164.\n",
      "Step: 247, action: 900.0, 900.0, 900.0, 900.0, position: 0.0, 0.0, 135.2, reward: -10.190.\n",
      "Step: 248, action: 900.0, 900.0, 900.0, 900.0, position: 0.0, 0.0, 135.8, reward: -10.215.\n",
      "Step: 249, action: 900.0, 900.0, 900.0, 900.0, position: 0.0, 0.0, 136.3, reward: -10.240.\n",
      "Step: 250, action: 900.0, 900.0, 900.0, 900.0, position: 0.0, 0.0, 136.9, reward: -10.265.\n",
      "Step: 251, action: 900.0, 900.0, 900.0, 900.0, position: 0.0, 0.0, 137.5, reward: -10.290.\n"
     ]
    }
   ],
   "source": [
    "import numpy as np\n",
    "from agent import Agent\n",
    "agent = Agent(init_pose=[0,0,10,0,0,0])\n",
    "positions, actions, rewards, _ = agent.sample_play([900,900,900,900])\n",
    "for i in range(len(positions)):\n",
    "    print('Step: %d, action: %.1f, %.1f, %.1f, %.1f, position: %.1f, %.1f, %.1f, reward: %.3f.' % \n",
    "          (i, actions[i][0], actions[i][1], actions[i][2], actions[i][3],\n",
    "           positions[i][0], positions[i][1], positions[i][2], rewards[i]))"
   ]
  },
  {
   "cell_type": "code",
   "execution_count": null,
   "metadata": {
    "scrolled": true
   },
   "outputs": [],
   "source": []
  },
  {
   "cell_type": "code",
   "execution_count": null,
   "metadata": {
    "scrolled": true
   },
   "outputs": [],
   "source": []
  },
  {
   "cell_type": "markdown",
   "metadata": {
    "collapsed": true
   },
   "source": [
    "## Plot the Rewards\n",
    "\n",
    "Once you are satisfied with your performance, plot the episode rewards, either from a single run, or averaged over multiple runs. "
   ]
  },
  {
   "cell_type": "code",
   "execution_count": null,
   "metadata": {
    "collapsed": true
   },
   "outputs": [],
   "source": [
    "## TODO: Plot the rewards."
   ]
  },
  {
   "cell_type": "markdown",
   "metadata": {
    "collapsed": true
   },
   "source": [
    "## Reflections\n",
    "\n",
    "**Question 1**: Describe the task that you specified in `task.py`.  How did you design the reward function?\n",
    "\n",
    "**Answer**:"
   ]
  },
  {
   "cell_type": "markdown",
   "metadata": {},
   "source": [
    "**Question 2**: Discuss your agent briefly, using the following questions as a guide:\n",
    "\n",
    "- What learning algorithm(s) did you try? What worked best for you?\n",
    "- What was your final choice of hyperparameters (such as $\\alpha$, $\\gamma$, $\\epsilon$, etc.)?\n",
    "- What neural network architecture did you use (if any)? Specify layers, sizes, activation functions, etc.\n",
    "\n",
    "**Answer**:"
   ]
  },
  {
   "cell_type": "markdown",
   "metadata": {},
   "source": [
    "**Question 3**: Using the episode rewards plot, discuss how the agent learned over time.\n",
    "\n",
    "- Was it an easy task to learn or hard?\n",
    "- Was there a gradual learning curve, or an aha moment?\n",
    "- How good was the final performance of the agent? (e.g. mean rewards over the last 10 episodes)\n",
    "\n",
    "**Answer**:"
   ]
  },
  {
   "cell_type": "markdown",
   "metadata": {},
   "source": [
    "**Question 4**: Briefly summarize your experience working on this project. You can use the following prompts for ideas.\n",
    "\n",
    "- What was the hardest part of the project? (e.g. getting started, plotting, specifying the task, etc.)\n",
    "- Did you find anything interesting in how the quadcopter or your agent behaved?\n",
    "\n",
    "**Answer**:"
   ]
  }
 ],
 "metadata": {
  "anaconda-cloud": {},
  "kernelspec": {
   "display_name": "Python 3",
   "language": "python",
   "name": "python3"
  },
  "language_info": {
   "codemirror_mode": {
    "name": "ipython",
    "version": 3
   },
   "file_extension": ".py",
   "mimetype": "text/x-python",
   "name": "python",
   "nbconvert_exporter": "python",
   "pygments_lexer": "ipython3",
   "version": "3.6.5"
  }
 },
 "nbformat": 4,
 "nbformat_minor": 2
}
