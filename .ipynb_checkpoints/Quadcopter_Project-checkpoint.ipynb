{
 "cells": [
  {
   "cell_type": "markdown",
   "metadata": {},
   "source": [
    "# Project: Train a Quadcopter How to Fly\n",
    "\n",
    "Design an agent to fly a quadcopter, and then train it using a reinforcement learning algorithm of your choice! \n",
    "\n",
    "Try to apply the techniques you have learnt, but also feel free to come up with innovative ideas and test them."
   ]
  },
  {
   "cell_type": "markdown",
   "metadata": {},
   "source": [
    "## Instructions\n",
    "\n",
    "Take a look at the files in the directory to better understand the structure of the project. \n",
    "\n",
    "- `task.py`: Define your task (environment) in this file.\n",
    "- `agents/`: Folder containing reinforcement learning agents.\n",
    "    - `policy_search.py`: A sample agent has been provided here.\n",
    "    - `agent.py`: Develop your agent here.\n",
    "- `physics_sim.py`: This file contains the simulator for the quadcopter.  **DO NOT MODIFY THIS FILE**.\n",
    "\n",
    "For this project, you will define your own task in `task.py`.  Although we have provided a example task to get you started, you are encouraged to change it.  Later in this notebook, you will learn more about how to amend this file.\n",
    "\n",
    "You will also design a reinforcement learning agent in `agent.py` to complete your chosen task.  \n",
    "\n",
    "You are welcome to create any additional files to help you to organize your code.  For instance, you may find it useful to define a `model.py` file defining any needed neural network architectures.\n",
    "\n",
    "## Controlling the Quadcopter\n",
    "\n",
    "We provide a sample agent in the code cell below to show you how to use the sim to control the quadcopter.  This agent is even simpler than the sample agent that you'll examine (in `agents/policy_search.py`) later in this notebook!\n",
    "\n",
    "The agent controls the quadcopter by setting the revolutions per second on each of its four rotors.  The provided agent in the `Basic_Agent` class below always selects a random action for each of the four rotors.  These four speeds are returned by the `act` method as a list of four floating-point numbers.  \n",
    "\n",
    "For this project, the agent that you will implement in `agents/agent.py` will have a far more intelligent method for selecting actions!"
   ]
  },
  {
   "cell_type": "code",
   "execution_count": 3,
   "metadata": {},
   "outputs": [],
   "source": [
    "import random\n",
    "\n",
    "class Basic_Agent():\n",
    "    def __init__(self, task):\n",
    "        self.task = task\n",
    "    \n",
    "    def act(self):\n",
    "        new_thrust = random.gauss(450., 25.)\n",
    "        return [new_thrust + random.gauss(0., 1.) for x in range(4)]"
   ]
  },
  {
   "cell_type": "markdown",
   "metadata": {},
   "source": [
    "Run the code cell below to have the agent select actions to control the quadcopter.  \n",
    "\n",
    "Feel free to change the provided values of `runtime`, `init_pose`, `init_velocities`, and `init_angle_velocities` below to change the starting conditions of the quadcopter.\n",
    "\n",
    "The `labels` list below annotates statistics that are saved while running the simulation.  All of this information is saved in a text file `data.txt` and stored in the dictionary `results`.  "
   ]
  },
  {
   "cell_type": "code",
   "execution_count": 4,
   "metadata": {},
   "outputs": [
    {
     "ename": "TypeError",
     "evalue": "output must be an array",
     "output_type": "error",
     "traceback": [
      "\u001b[0;31m---------------------------------------------------------------------------\u001b[0m",
      "\u001b[0;31mTypeError\u001b[0m                                 Traceback (most recent call last)",
      "\u001b[0;32m~/anaconda3/lib/python3.6/site-packages/numpy/core/fromnumeric.py\u001b[0m in \u001b[0;36m_wrapfunc\u001b[0;34m(obj, method, *args, **kwds)\u001b[0m\n\u001b[1;32m     51\u001b[0m     \u001b[0;32mtry\u001b[0m\u001b[0;34m:\u001b[0m\u001b[0;34m\u001b[0m\u001b[0m\n\u001b[0;32m---> 52\u001b[0;31m         \u001b[0;32mreturn\u001b[0m \u001b[0mgetattr\u001b[0m\u001b[0;34m(\u001b[0m\u001b[0mobj\u001b[0m\u001b[0;34m,\u001b[0m \u001b[0mmethod\u001b[0m\u001b[0;34m)\u001b[0m\u001b[0;34m(\u001b[0m\u001b[0;34m*\u001b[0m\u001b[0margs\u001b[0m\u001b[0;34m,\u001b[0m \u001b[0;34m**\u001b[0m\u001b[0mkwds\u001b[0m\u001b[0;34m)\u001b[0m\u001b[0;34m\u001b[0m\u001b[0m\n\u001b[0m\u001b[1;32m     53\u001b[0m \u001b[0;34m\u001b[0m\u001b[0m\n",
      "\u001b[0;31mTypeError\u001b[0m: output must be an array",
      "\nDuring handling of the above exception, another exception occurred:\n",
      "\u001b[0;31mTypeError\u001b[0m                                 Traceback (most recent call last)",
      "\u001b[0;32m<ipython-input-4-255774a3b200>\u001b[0m in \u001b[0;36m<module>\u001b[0;34m()\u001b[0m\n\u001b[1;32m     28\u001b[0m     \u001b[0;32mwhile\u001b[0m \u001b[0;32mTrue\u001b[0m\u001b[0;34m:\u001b[0m\u001b[0;34m\u001b[0m\u001b[0m\n\u001b[1;32m     29\u001b[0m         \u001b[0mrotor_speeds\u001b[0m \u001b[0;34m=\u001b[0m \u001b[0magent\u001b[0m\u001b[0;34m.\u001b[0m\u001b[0mact\u001b[0m\u001b[0;34m(\u001b[0m\u001b[0;34m)\u001b[0m\u001b[0;34m\u001b[0m\u001b[0m\n\u001b[0;32m---> 30\u001b[0;31m         \u001b[0m_\u001b[0m\u001b[0;34m,\u001b[0m \u001b[0m_\u001b[0m\u001b[0;34m,\u001b[0m \u001b[0mdone\u001b[0m \u001b[0;34m=\u001b[0m \u001b[0mtask\u001b[0m\u001b[0;34m.\u001b[0m\u001b[0mstep\u001b[0m\u001b[0;34m(\u001b[0m\u001b[0mrotor_speeds\u001b[0m\u001b[0;34m)\u001b[0m\u001b[0;34m\u001b[0m\u001b[0m\n\u001b[0m\u001b[1;32m     31\u001b[0m         \u001b[0mto_write\u001b[0m \u001b[0;34m=\u001b[0m \u001b[0;34m[\u001b[0m\u001b[0mtask\u001b[0m\u001b[0;34m.\u001b[0m\u001b[0msim\u001b[0m\u001b[0;34m.\u001b[0m\u001b[0mtime\u001b[0m\u001b[0;34m]\u001b[0m \u001b[0;34m+\u001b[0m \u001b[0mlist\u001b[0m\u001b[0;34m(\u001b[0m\u001b[0mtask\u001b[0m\u001b[0;34m.\u001b[0m\u001b[0msim\u001b[0m\u001b[0;34m.\u001b[0m\u001b[0mpose\u001b[0m\u001b[0;34m)\u001b[0m \u001b[0;34m+\u001b[0m \u001b[0mlist\u001b[0m\u001b[0;34m(\u001b[0m\u001b[0mtask\u001b[0m\u001b[0;34m.\u001b[0m\u001b[0msim\u001b[0m\u001b[0;34m.\u001b[0m\u001b[0mv\u001b[0m\u001b[0;34m)\u001b[0m \u001b[0;34m+\u001b[0m \u001b[0mlist\u001b[0m\u001b[0;34m(\u001b[0m\u001b[0mtask\u001b[0m\u001b[0;34m.\u001b[0m\u001b[0msim\u001b[0m\u001b[0;34m.\u001b[0m\u001b[0mangular_v\u001b[0m\u001b[0;34m)\u001b[0m \u001b[0;34m+\u001b[0m \u001b[0mlist\u001b[0m\u001b[0;34m(\u001b[0m\u001b[0mrotor_speeds\u001b[0m\u001b[0;34m)\u001b[0m\u001b[0;34m\u001b[0m\u001b[0m\n\u001b[1;32m     32\u001b[0m         \u001b[0;32mfor\u001b[0m \u001b[0mii\u001b[0m \u001b[0;32min\u001b[0m \u001b[0mrange\u001b[0m\u001b[0;34m(\u001b[0m\u001b[0mlen\u001b[0m\u001b[0;34m(\u001b[0m\u001b[0mlabels\u001b[0m\u001b[0;34m)\u001b[0m\u001b[0;34m)\u001b[0m\u001b[0;34m:\u001b[0m\u001b[0;34m\u001b[0m\u001b[0m\n",
      "\u001b[0;32m/media/jay/Storage/Python/jupyter/quadcopter_project/task.py\u001b[0m in \u001b[0;36mstep\u001b[0;34m(self, rotor_speeds)\u001b[0m\n\u001b[1;32m     37\u001b[0m \u001b[0;34m\u001b[0m\u001b[0m\n\u001b[1;32m     38\u001b[0m     \u001b[0;32mdef\u001b[0m \u001b[0mstep\u001b[0m\u001b[0;34m(\u001b[0m\u001b[0mself\u001b[0m\u001b[0;34m,\u001b[0m \u001b[0mrotor_speeds\u001b[0m\u001b[0;34m)\u001b[0m\u001b[0;34m:\u001b[0m\u001b[0;34m\u001b[0m\u001b[0m\n\u001b[0;32m---> 39\u001b[0;31m         \u001b[0mnp\u001b[0m\u001b[0;34m.\u001b[0m\u001b[0mclip\u001b[0m\u001b[0;34m(\u001b[0m\u001b[0mnp\u001b[0m\u001b[0;34m.\u001b[0m\u001b[0marray\u001b[0m\u001b[0;34m(\u001b[0m\u001b[0mrotor_speeds\u001b[0m\u001b[0;34m)\u001b[0m\u001b[0;34m,\u001b[0m \u001b[0mself\u001b[0m\u001b[0;34m.\u001b[0m\u001b[0maction_low\u001b[0m\u001b[0;34m,\u001b[0m \u001b[0mself\u001b[0m\u001b[0;34m.\u001b[0m\u001b[0maction_high\u001b[0m\u001b[0;34m,\u001b[0m \u001b[0mout\u001b[0m\u001b[0;34m=\u001b[0m\u001b[0mrotor_speeds\u001b[0m\u001b[0;34m)\u001b[0m\u001b[0;34m\u001b[0m\u001b[0m\n\u001b[0m\u001b[1;32m     40\u001b[0m         \u001b[0;34m\"\"\"Uses action to obtain next state, reward, done.\"\"\"\u001b[0m\u001b[0;34m\u001b[0m\u001b[0m\n\u001b[1;32m     41\u001b[0m         \u001b[0;31m#reward = 0\u001b[0m\u001b[0;34m\u001b[0m\u001b[0;34m\u001b[0m\u001b[0m\n",
      "\u001b[0;32m~/anaconda3/lib/python3.6/site-packages/numpy/core/fromnumeric.py\u001b[0m in \u001b[0;36mclip\u001b[0;34m(a, a_min, a_max, out)\u001b[0m\n\u001b[1;32m   1773\u001b[0m \u001b[0;34m\u001b[0m\u001b[0m\n\u001b[1;32m   1774\u001b[0m     \"\"\"\n\u001b[0;32m-> 1775\u001b[0;31m     \u001b[0;32mreturn\u001b[0m \u001b[0m_wrapfunc\u001b[0m\u001b[0;34m(\u001b[0m\u001b[0ma\u001b[0m\u001b[0;34m,\u001b[0m \u001b[0;34m'clip'\u001b[0m\u001b[0;34m,\u001b[0m \u001b[0ma_min\u001b[0m\u001b[0;34m,\u001b[0m \u001b[0ma_max\u001b[0m\u001b[0;34m,\u001b[0m \u001b[0mout\u001b[0m\u001b[0;34m=\u001b[0m\u001b[0mout\u001b[0m\u001b[0;34m)\u001b[0m\u001b[0;34m\u001b[0m\u001b[0m\n\u001b[0m\u001b[1;32m   1776\u001b[0m \u001b[0;34m\u001b[0m\u001b[0m\n\u001b[1;32m   1777\u001b[0m \u001b[0;34m\u001b[0m\u001b[0m\n",
      "\u001b[0;32m~/anaconda3/lib/python3.6/site-packages/numpy/core/fromnumeric.py\u001b[0m in \u001b[0;36m_wrapfunc\u001b[0;34m(obj, method, *args, **kwds)\u001b[0m\n\u001b[1;32m     60\u001b[0m     \u001b[0;31m# a downstream library like 'pandas'.\u001b[0m\u001b[0;34m\u001b[0m\u001b[0;34m\u001b[0m\u001b[0m\n\u001b[1;32m     61\u001b[0m     \u001b[0;32mexcept\u001b[0m \u001b[0;34m(\u001b[0m\u001b[0mAttributeError\u001b[0m\u001b[0;34m,\u001b[0m \u001b[0mTypeError\u001b[0m\u001b[0;34m)\u001b[0m\u001b[0;34m:\u001b[0m\u001b[0;34m\u001b[0m\u001b[0m\n\u001b[0;32m---> 62\u001b[0;31m         \u001b[0;32mreturn\u001b[0m \u001b[0m_wrapit\u001b[0m\u001b[0;34m(\u001b[0m\u001b[0mobj\u001b[0m\u001b[0;34m,\u001b[0m \u001b[0mmethod\u001b[0m\u001b[0;34m,\u001b[0m \u001b[0;34m*\u001b[0m\u001b[0margs\u001b[0m\u001b[0;34m,\u001b[0m \u001b[0;34m**\u001b[0m\u001b[0mkwds\u001b[0m\u001b[0;34m)\u001b[0m\u001b[0;34m\u001b[0m\u001b[0m\n\u001b[0m\u001b[1;32m     63\u001b[0m \u001b[0;34m\u001b[0m\u001b[0m\n\u001b[1;32m     64\u001b[0m \u001b[0;34m\u001b[0m\u001b[0m\n",
      "\u001b[0;32m~/anaconda3/lib/python3.6/site-packages/numpy/core/fromnumeric.py\u001b[0m in \u001b[0;36m_wrapit\u001b[0;34m(obj, method, *args, **kwds)\u001b[0m\n\u001b[1;32m     40\u001b[0m     \u001b[0;32mexcept\u001b[0m \u001b[0mAttributeError\u001b[0m\u001b[0;34m:\u001b[0m\u001b[0;34m\u001b[0m\u001b[0m\n\u001b[1;32m     41\u001b[0m         \u001b[0mwrap\u001b[0m \u001b[0;34m=\u001b[0m \u001b[0;32mNone\u001b[0m\u001b[0;34m\u001b[0m\u001b[0m\n\u001b[0;32m---> 42\u001b[0;31m     \u001b[0mresult\u001b[0m \u001b[0;34m=\u001b[0m \u001b[0mgetattr\u001b[0m\u001b[0;34m(\u001b[0m\u001b[0masarray\u001b[0m\u001b[0;34m(\u001b[0m\u001b[0mobj\u001b[0m\u001b[0;34m)\u001b[0m\u001b[0;34m,\u001b[0m \u001b[0mmethod\u001b[0m\u001b[0;34m)\u001b[0m\u001b[0;34m(\u001b[0m\u001b[0;34m*\u001b[0m\u001b[0margs\u001b[0m\u001b[0;34m,\u001b[0m \u001b[0;34m**\u001b[0m\u001b[0mkwds\u001b[0m\u001b[0;34m)\u001b[0m\u001b[0;34m\u001b[0m\u001b[0m\n\u001b[0m\u001b[1;32m     43\u001b[0m     \u001b[0;32mif\u001b[0m \u001b[0mwrap\u001b[0m\u001b[0;34m:\u001b[0m\u001b[0;34m\u001b[0m\u001b[0m\n\u001b[1;32m     44\u001b[0m         \u001b[0;32mif\u001b[0m \u001b[0;32mnot\u001b[0m \u001b[0misinstance\u001b[0m\u001b[0;34m(\u001b[0m\u001b[0mresult\u001b[0m\u001b[0;34m,\u001b[0m \u001b[0mmu\u001b[0m\u001b[0;34m.\u001b[0m\u001b[0mndarray\u001b[0m\u001b[0;34m)\u001b[0m\u001b[0;34m:\u001b[0m\u001b[0;34m\u001b[0m\u001b[0m\n",
      "\u001b[0;31mTypeError\u001b[0m: output must be an array"
     ]
    }
   ],
   "source": [
    "%load_ext autoreload\n",
    "%autoreload 2\n",
    "\n",
    "import csv\n",
    "import numpy as np\n",
    "from task import Task\n",
    "\n",
    "# Modify the values below to give the quadcopter a different starting position.\n",
    "runtime = 5.                                     # time limit of the episode\n",
    "init_pose = np.array([0., 0., 10., 0., 0., 0.])  # initial pose\n",
    "init_velocities = np.array([0., 0., 0.])         # initial velocities\n",
    "init_angle_velocities = np.array([0., 0., 0.])   # initial angle velocities\n",
    "file_output = 'data.txt'                         # file name for saved results\n",
    "\n",
    "# Setup\n",
    "task = Task(init_pose, init_velocities, init_angle_velocities, runtime)\n",
    "agent = Basic_Agent(task)\n",
    "done = False\n",
    "labels = ['time', 'x', 'y', 'z', 'phi', 'theta', 'psi', 'x_velocity',\n",
    "          'y_velocity', 'z_velocity', 'phi_velocity', 'theta_velocity',\n",
    "          'psi_velocity', 'rotor_speed1', 'rotor_speed2', 'rotor_speed3', 'rotor_speed4']\n",
    "results = {x : [] for x in labels}\n",
    "\n",
    "# Run the simulation, and save the results.\n",
    "with open(file_output, 'w') as csvfile:\n",
    "    writer = csv.writer(csvfile)\n",
    "    writer.writerow(labels)\n",
    "    while True:\n",
    "        rotor_speeds = agent.act()\n",
    "        _, _, done = task.step(rotor_speeds)\n",
    "        to_write = [task.sim.time] + list(task.sim.pose) + list(task.sim.v) + list(task.sim.angular_v) + list(rotor_speeds)\n",
    "        for ii in range(len(labels)):\n",
    "            results[labels[ii]].append(to_write[ii])\n",
    "        writer.writerow(to_write)\n",
    "        if done:\n",
    "            break"
   ]
  },
  {
   "cell_type": "markdown",
   "metadata": {},
   "source": [
    "Run the code cell below to visualize how the position of the quadcopter evolved during the simulation."
   ]
  },
  {
   "cell_type": "code",
   "execution_count": null,
   "metadata": {},
   "outputs": [],
   "source": [
    "import matplotlib.pyplot as plt\n",
    "%matplotlib inline\n",
    "\n",
    "plt.plot(results['time'], results['x'], label='x')\n",
    "plt.plot(results['time'], results['y'], label='y')\n",
    "plt.plot(results['time'], results['z'], label='z')\n",
    "plt.legend()\n",
    "_ = plt.ylim()"
   ]
  },
  {
   "cell_type": "markdown",
   "metadata": {},
   "source": [
    "The next code cell visualizes the velocity of the quadcopter."
   ]
  },
  {
   "cell_type": "code",
   "execution_count": null,
   "metadata": {},
   "outputs": [],
   "source": [
    "plt.plot(results['time'], results['x_velocity'], label='x_hat')\n",
    "plt.plot(results['time'], results['y_velocity'], label='y_hat')\n",
    "plt.plot(results['time'], results['z_velocity'], label='z_hat')\n",
    "plt.legend()\n",
    "_ = plt.ylim()"
   ]
  },
  {
   "cell_type": "markdown",
   "metadata": {},
   "source": [
    "Next, you can plot the Euler angles (the rotation of the quadcopter over the $x$-, $y$-, and $z$-axes),"
   ]
  },
  {
   "cell_type": "code",
   "execution_count": null,
   "metadata": {},
   "outputs": [],
   "source": [
    "plt.plot(results['time'], results['phi'], label='phi')\n",
    "plt.plot(results['time'], results['theta'], label='theta')\n",
    "plt.plot(results['time'], results['psi'], label='psi')\n",
    "plt.legend()\n",
    "_ = plt.ylim()"
   ]
  },
  {
   "cell_type": "markdown",
   "metadata": {},
   "source": [
    "before plotting the velocities (in radians per second) corresponding to each of the Euler angles."
   ]
  },
  {
   "cell_type": "code",
   "execution_count": null,
   "metadata": {},
   "outputs": [],
   "source": [
    "plt.plot(results['time'], results['phi_velocity'], label='phi_velocity')\n",
    "plt.plot(results['time'], results['theta_velocity'], label='theta_velocity')\n",
    "plt.plot(results['time'], results['psi_velocity'], label='psi_velocity')\n",
    "plt.legend()\n",
    "_ = plt.ylim()"
   ]
  },
  {
   "cell_type": "markdown",
   "metadata": {},
   "source": [
    "Finally, you can use the code cell below to print the agent's choice of actions.  "
   ]
  },
  {
   "cell_type": "code",
   "execution_count": null,
   "metadata": {},
   "outputs": [],
   "source": [
    "plt.plot(results['time'], results['rotor_speed1'], label='Rotor 1 revolutions / second')\n",
    "plt.plot(results['time'], results['rotor_speed2'], label='Rotor 2 revolutions / second')\n",
    "plt.plot(results['time'], results['rotor_speed3'], label='Rotor 3 revolutions / second')\n",
    "plt.plot(results['time'], results['rotor_speed4'], label='Rotor 4 revolutions / second')\n",
    "plt.legend()\n",
    "_ = plt.ylim()"
   ]
  },
  {
   "cell_type": "markdown",
   "metadata": {},
   "source": [
    "When specifying a task, you will derive the environment state from the simulator.  Run the code cell below to print the values of the following variables at the end of the simulation:\n",
    "- `task.sim.pose` (the position of the quadcopter in ($x,y,z$) dimensions and the Euler angles),\n",
    "- `task.sim.v` (the velocity of the quadcopter in ($x,y,z$) dimensions), and\n",
    "- `task.sim.angular_v` (radians/second for each of the three Euler angles)."
   ]
  },
  {
   "cell_type": "code",
   "execution_count": null,
   "metadata": {},
   "outputs": [],
   "source": [
    "# the pose, velocity, and angular velocity of the quadcopter at the end of the episode\n",
    "print(task.sim.pose)\n",
    "print(task.sim.v)\n",
    "print(task.sim.angular_v)"
   ]
  },
  {
   "cell_type": "markdown",
   "metadata": {},
   "source": [
    "In the sample task in `task.py`, we use the 6-dimensional pose of the quadcopter to construct the state of the environment at each timestep.  However, when amending the task for your purposes, you are welcome to expand the size of the state vector by including the velocity information.  You can use any combination of the pose, velocity, and angular velocity - feel free to tinker here, and construct the state to suit your task.\n",
    "\n",
    "## The Task\n",
    "\n",
    "A sample task has been provided for you in `task.py`.  Open this file in a new window now. \n",
    "\n",
    "The `__init__()` method is used to initialize several variables that are needed to specify the task.  \n",
    "- The simulator is initialized as an instance of the `PhysicsSim` class (from `physics_sim.py`).  \n",
    "- Inspired by the methodology in the original DDPG paper, we make use of action repeats.  For each timestep of the agent, we step the simulation `action_repeats` timesteps.  If you are not familiar with action repeats, please read the **Results** section in [the DDPG paper](https://arxiv.org/abs/1509.02971).\n",
    "- We set the number of elements in the state vector.  For the sample task, we only work with the 6-dimensional pose information.  To set the size of the state (`state_size`), we must take action repeats into account.  \n",
    "- The environment will always have a 4-dimensional action space, with one entry for each rotor (`action_size=4`). You can set the minimum (`action_low`) and maximum (`action_high`) values of each entry here.\n",
    "- The sample task in this provided file is for the agent to reach a target position.  We specify that target position as a variable.\n",
    "\n",
    "The `reset()` method resets the simulator.  The agent should call this method every time the episode ends.  You can see an example of this in the code cell below.\n",
    "\n",
    "The `step()` method is perhaps the most important.  It accepts the agent's choice of action `rotor_speeds`, which is used to prepare the next state to pass on to the agent.  Then, the reward is computed from `get_reward()`.  The episode is considered done if the time limit has been exceeded, or the quadcopter has travelled outside of the bounds of the simulation.\n",
    "\n",
    "In the next section, you will learn how to test the performance of an agent on this task."
   ]
  },
  {
   "cell_type": "markdown",
   "metadata": {},
   "source": [
    "## The Agent\n",
    "\n",
    "The sample agent given in `agents/policy_search.py` uses a very simplistic linear policy to directly compute the action vector as a dot product of the state vector and a matrix of weights. Then, it randomly perturbs the parameters by adding some Gaussian noise, to produce a different policy. Based on the average reward obtained in each episode (`score`), it keeps track of the best set of parameters found so far, how the score is changing, and accordingly tweaks a scaling factor to widen or tighten the noise.\n",
    "\n",
    "Run the code cell below to see how the agent performs on the sample task."
   ]
  },
  {
   "cell_type": "code",
   "execution_count": 5,
   "metadata": {},
   "outputs": [
    {
     "ename": "ModuleNotFoundError",
     "evalue": "No module named 'agents'",
     "output_type": "error",
     "traceback": [
      "\u001b[0;31m---------------------------------------------------------------------------\u001b[0m",
      "\u001b[0;31mModuleNotFoundError\u001b[0m                       Traceback (most recent call last)",
      "\u001b[0;32m<ipython-input-5-0b336a4ce0bc>\u001b[0m in \u001b[0;36m<module>\u001b[0;34m()\u001b[0m\n\u001b[1;32m      1\u001b[0m \u001b[0;32mimport\u001b[0m \u001b[0msys\u001b[0m\u001b[0;34m\u001b[0m\u001b[0m\n\u001b[1;32m      2\u001b[0m \u001b[0;32mimport\u001b[0m \u001b[0mpandas\u001b[0m \u001b[0;32mas\u001b[0m \u001b[0mpd\u001b[0m\u001b[0;34m\u001b[0m\u001b[0m\n\u001b[0;32m----> 3\u001b[0;31m \u001b[0;32mfrom\u001b[0m \u001b[0magents\u001b[0m\u001b[0;34m.\u001b[0m\u001b[0mpolicy_search\u001b[0m \u001b[0;32mimport\u001b[0m \u001b[0mPolicySearch_Agent\u001b[0m\u001b[0;34m\u001b[0m\u001b[0m\n\u001b[0m\u001b[1;32m      4\u001b[0m \u001b[0;32mfrom\u001b[0m \u001b[0mtask\u001b[0m \u001b[0;32mimport\u001b[0m \u001b[0mTask\u001b[0m\u001b[0;34m\u001b[0m\u001b[0m\n\u001b[1;32m      5\u001b[0m \u001b[0;34m\u001b[0m\u001b[0m\n",
      "\u001b[0;31mModuleNotFoundError\u001b[0m: No module named 'agents'"
     ]
    }
   ],
   "source": [
    "import sys\n",
    "import pandas as pd\n",
    "from agents.policy_search import PolicySearch_Agent\n",
    "from task import Task\n",
    "\n",
    "num_episodes = 1000\n",
    "target_pos = np.array([0., 0., 10.])\n",
    "task = Task(target_pos=target_pos)\n",
    "agent = PolicySearch_Agent(task) \n",
    "\n",
    "for i_episode in range(1, num_episodes+1):\n",
    "    state = agent.reset_episode() # start a new episode\n",
    "    while True:\n",
    "        action = agent.act(state) \n",
    "        next_state, reward, done = task.step(action)\n",
    "        agent.step(reward, done)\n",
    "        state = next_state\n",
    "        if done:\n",
    "            print(\"\\rEpisode = {:4d}, score = {:7.3f} (best = {:7.3f}), noise_scale = {}\".format(\n",
    "                i_episode, agent.score, agent.best_score, agent.noise_scale), end=\"\")  # [debug]\n",
    "            break\n",
    "    sys.stdout.flush()"
   ]
  },
  {
   "cell_type": "markdown",
   "metadata": {},
   "source": [
    "This agent should perform very poorly on this task.  And that's where you come in!"
   ]
  },
  {
   "cell_type": "markdown",
   "metadata": {
    "collapsed": true
   },
   "source": [
    "## Define the Task, Design the Agent, and Train Your Agent!\n",
    "\n",
    "Amend `task.py` to specify a task of your choosing.  If you're unsure what kind of task to specify, you may like to teach your quadcopter to takeoff, hover in place, land softly, or reach a target pose.  \n",
    "\n",
    "After specifying your task, use the sample agent in `agents/policy_search.py` as a template to define your own agent in `agents/agent.py`.  You can borrow whatever you need from the sample agent, including ideas on how you might modularize your code (using helper methods like `act()`, `learn()`, `reset_episode()`, etc.).\n",
    "\n",
    "Note that it is **highly unlikely** that the first agent and task that you specify will learn well.  You will likely have to tweak various hyperparameters and the reward function for your task until you arrive at reasonably good behavior.\n",
    "\n",
    "As you develop your agent, it's important to keep an eye on how it's performing. Use the code above as inspiration to build in a mechanism to log/save the total rewards obtained in each episode to file.  If the episode rewards are gradually increasing, this is an indication that your agent is learning."
   ]
  },
  {
   "cell_type": "code",
   "execution_count": 4,
   "metadata": {},
   "outputs": [],
   "source": [
    "\n",
    "agent.actor.model.predict(np.array(np.reshape([ 0.,  0., 10.,  0.,  0.,  0.], [-1,6])))"
   ]
  },
  {
   "cell_type": "code",
   "execution_count": null,
   "metadata": {
    "scrolled": true
   },
   "outputs": [],
   "source": [
    "print(agent.task.sim.next_timestep([[50,75,80,98]]))"
   ]
  },
  {
   "cell_type": "code",
   "execution_count": 1,
   "metadata": {
    "scrolled": true
   },
   "outputs": [
    {
     "name": "stderr",
     "output_type": "stream",
     "text": [
      "Using TensorFlow backend.\n",
      "/media/jay/Storage/Python/jupyter/quadcopter_project/physics_sim.py:114: RuntimeWarning: divide by zero encountered in double_scalars\n",
      "  J = V / n * D\n"
     ]
    },
    {
     "name": "stdout",
     "output_type": "stream",
     "text": [
      "500 step loss: 24.819649\n"
     ]
    },
    {
     "name": "stderr",
     "output_type": "stream",
     "text": [
      "/media/jay/Storage/Python/jupyter/quadcopter_project/physics_sim.py:114: RuntimeWarning: invalid value encountered in double_scalars\n",
      "  J = V / n * D\n"
     ]
    },
    {
     "name": "stdout",
     "output_type": "stream",
     "text": [
      "1000 step loss: 4.487362\n",
      "1500 step loss: 4.052440\n",
      "2000 step loss: 2.590616\n",
      "2500 step loss: 6.601007\n",
      "3000 step loss: 2.903826\n",
      "3500 step loss: 11.542079\n",
      "4000 step loss: 12.079891\n",
      "4500 step loss: 1.432618\n"
     ]
    }
   ],
   "source": [
    "import numpy as np\n",
    "from agent import Agent\n",
    "agent = Agent(init_pose=[15,15,15,0,0,0], target_pos=[0,0,120], runtime=15)\n",
    "agent.step()\n",
    "for _ in range(5000):\n",
    "    agent.step()\n",
    "    len(agent.memory.memory)"
   ]
  },
  {
   "cell_type": "code",
   "execution_count": 2,
   "metadata": {
    "scrolled": true
   },
   "outputs": [
    {
     "name": "stdout",
     "output_type": "stream",
     "text": [
      "DONE!\n",
      "Step: 0, action: 10.8, 2.3, 3.2, 0.9, position: 15.0, 15.0, 15.0, reward: 0.000, z_v: 0.0.\n",
      "Step: 1, action: 10.8, 2.3, 3.2, 0.9, position: 15.0, 15.0, 15.0, reward: -0.196, z_v: -25.9.\n",
      "Step: 2, action: 5.9, 0.3, 0.4, 0.2, position: 15.0, 15.0, 15.0, reward: -0.392, z_v: -25.9.\n",
      "Step: 3, action: 5.9, 0.3, 0.4, 0.2, position: 15.0, 15.0, 15.0, reward: -0.589, z_v: -25.9.\n",
      "Step: 4, action: 5.9, 0.3, 0.4, 0.2, position: 15.0, 15.0, 15.0, reward: -0.785, z_v: -25.9.\n",
      "Step: 5, action: 5.9, 0.3, 0.4, 0.2, position: 15.0, 15.0, 15.0, reward: -0.982, z_v: -25.9.\n",
      "Step: 6, action: 5.9, 0.3, 0.4, 0.2, position: 15.0, 15.0, 14.9, reward: -1.179, z_v: -25.9.\n",
      "Step: 7, action: 5.9, 0.3, 0.4, 0.2, position: 15.0, 15.0, 14.9, reward: -1.377, z_v: -25.9.\n",
      "Step: 8, action: 5.9, 0.3, 0.4, 0.2, position: 15.0, 15.0, 14.9, reward: -1.575, z_v: -25.9.\n",
      "Step: 9, action: 5.9, 0.3, 0.4, 0.2, position: 15.0, 15.0, 14.8, reward: -1.773, z_v: -25.9.\n",
      "Step: 10, action: 5.9, 0.3, 0.4, 0.2, position: 15.0, 15.0, 14.8, reward: -1.973, z_v: -25.9.\n",
      "Step: 11, action: 5.9, 0.3, 0.4, 0.2, position: 15.0, 15.0, 14.8, reward: -2.173, z_v: -25.9.\n",
      "Step: 12, action: 5.9, 0.3, 0.4, 0.2, position: 15.0, 15.0, 14.7, reward: -2.373, z_v: -25.9.\n",
      "Step: 13, action: 5.9, 0.3, 0.4, 0.2, position: 15.0, 15.0, 14.7, reward: -2.575, z_v: -25.9.\n",
      "Step: 14, action: 5.9, 0.3, 0.4, 0.2, position: 15.0, 15.0, 14.6, reward: -2.778, z_v: -25.9.\n",
      "Step: 15, action: 5.9, 0.3, 0.4, 0.2, position: 15.0, 15.0, 14.6, reward: -2.982, z_v: -25.9.\n",
      "Step: 16, action: 5.9, 0.3, 0.4, 0.2, position: 15.0, 15.0, 14.5, reward: -3.186, z_v: -25.9.\n",
      "Step: 17, action: 5.9, 0.3, 0.4, 0.2, position: 15.0, 15.0, 14.4, reward: -3.393, z_v: -25.9.\n",
      "Step: 18, action: 5.9, 0.3, 0.4, 0.2, position: 15.0, 15.0, 14.4, reward: -3.600, z_v: -25.9.\n",
      "Step: 19, action: 5.9, 0.3, 0.4, 0.2, position: 15.0, 15.0, 14.3, reward: -3.809, z_v: -25.9.\n",
      "Step: 20, action: 5.9, 0.3, 0.4, 0.2, position: 15.0, 15.0, 14.2, reward: -4.019, z_v: -25.9.\n",
      "Step: 21, action: 5.9, 0.3, 0.4, 0.2, position: 15.0, 15.0, 14.1, reward: -4.231, z_v: -25.9.\n",
      "Step: 22, action: 6.0, 0.3, 0.4, 0.2, position: 15.0, 15.0, 14.0, reward: -4.445, z_v: -25.9.\n",
      "Step: 23, action: 6.0, 0.3, 0.4, 0.2, position: 15.0, 15.0, 13.9, reward: -4.660, z_v: -25.9.\n",
      "Step: 24, action: 6.0, 0.3, 0.4, 0.2, position: 15.0, 15.0, 13.9, reward: -4.878, z_v: -25.9.\n",
      "Step: 25, action: 6.0, 0.3, 0.4, 0.2, position: 15.0, 15.0, 13.8, reward: -5.097, z_v: -25.9.\n",
      "Step: 26, action: 6.0, 0.3, 0.4, 0.2, position: 15.0, 15.0, 13.6, reward: -5.319, z_v: -25.9.\n",
      "Step: 27, action: 6.0, 0.3, 0.4, 0.2, position: 15.0, 15.0, 13.5, reward: -5.543, z_v: -25.9.\n",
      "Step: 28, action: 6.0, 0.3, 0.4, 0.2, position: 15.0, 15.0, 13.4, reward: -5.769, z_v: -25.9.\n",
      "Step: 29, action: 6.0, 0.3, 0.4, 0.2, position: 15.0, 15.0, 13.3, reward: -5.998, z_v: -25.9.\n",
      "Step: 30, action: 6.0, 0.3, 0.4, 0.2, position: 15.0, 15.0, 13.2, reward: -6.229, z_v: -25.9.\n",
      "Step: 31, action: 6.0, 0.3, 0.4, 0.2, position: 15.0, 15.0, 13.1, reward: -6.463, z_v: -25.9.\n",
      "Step: 32, action: 6.1, 0.3, 0.4, 0.2, position: 15.0, 15.0, 12.9, reward: -6.700, z_v: -25.9.\n",
      "Step: 33, action: 6.1, 0.3, 0.4, 0.2, position: 15.0, 15.0, 12.8, reward: -6.940, z_v: -25.9.\n",
      "Step: 34, action: 6.1, 0.3, 0.4, 0.2, position: 15.0, 15.0, 12.6, reward: -7.183, z_v: -25.9.\n",
      "Step: 35, action: 6.1, 0.3, 0.4, 0.2, position: 15.0, 15.0, 12.5, reward: -7.430, z_v: -25.9.\n",
      "Step: 36, action: 6.1, 0.3, 0.4, 0.2, position: 15.0, 15.0, 12.4, reward: -7.680, z_v: -25.9.\n",
      "Step: 37, action: 6.1, 0.3, 0.4, 0.2, position: 15.0, 15.0, 12.2, reward: -7.934, z_v: -25.9.\n",
      "Step: 38, action: 6.2, 0.3, 0.4, 0.2, position: 15.0, 15.0, 12.0, reward: -8.192, z_v: -25.9.\n",
      "Step: 39, action: 6.2, 0.3, 0.4, 0.2, position: 15.0, 15.0, 11.9, reward: -8.453, z_v: -25.9.\n",
      "Step: 40, action: 6.2, 0.3, 0.4, 0.2, position: 15.0, 15.0, 11.7, reward: -8.719, z_v: -25.9.\n",
      "Step: 41, action: 6.2, 0.3, 0.4, 0.2, position: 15.0, 15.0, 11.5, reward: -8.990, z_v: -25.9.\n",
      "Step: 42, action: 6.2, 0.3, 0.4, 0.2, position: 15.0, 15.0, 11.3, reward: -9.265, z_v: -25.9.\n",
      "Step: 43, action: 6.3, 0.3, 0.4, 0.2, position: 15.0, 15.0, 11.1, reward: -9.545, z_v: -25.9.\n",
      "Step: 44, action: 6.3, 0.3, 0.5, 0.2, position: 15.0, 15.0, 11.0, reward: -9.830, z_v: -25.9.\n",
      "Step: 45, action: 6.3, 0.4, 0.5, 0.2, position: 15.0, 15.0, 10.8, reward: -10.121, z_v: -25.9.\n",
      "Step: 46, action: 6.3, 0.4, 0.5, 0.2, position: 15.0, 15.0, 10.5, reward: -10.417, z_v: -25.9.\n",
      "Step: 47, action: 6.4, 0.4, 0.5, 0.2, position: 15.0, 15.0, 10.3, reward: -10.720, z_v: -25.9.\n",
      "Step: 48, action: 6.4, 0.4, 0.5, 0.2, position: 15.0, 15.0, 10.1, reward: -11.028, z_v: -25.9.\n",
      "Step: 49, action: 6.5, 0.4, 0.5, 0.2, position: 15.0, 15.0, 9.9, reward: -11.343, z_v: -25.9.\n",
      "Step: 50, action: 6.5, 0.4, 0.5, 0.2, position: 15.0, 15.0, 9.7, reward: -11.665, z_v: -25.9.\n",
      "Step: 51, action: 6.6, 0.4, 0.5, 0.2, position: 15.0, 15.0, 9.4, reward: -11.994, z_v: -25.9.\n",
      "Step: 52, action: 6.6, 0.4, 0.5, 0.2, position: 15.0, 15.0, 9.2, reward: -12.331, z_v: -25.9.\n",
      "Step: 53, action: 6.7, 0.4, 0.5, 0.2, position: 15.0, 15.0, 8.9, reward: -12.676, z_v: -25.9.\n",
      "Step: 54, action: 6.7, 0.4, 0.5, 0.2, position: 15.0, 15.0, 8.7, reward: -13.029, z_v: -25.9.\n",
      "Step: 55, action: 6.8, 0.4, 0.5, 0.2, position: 15.0, 15.0, 8.4, reward: -13.391, z_v: -25.9.\n",
      "Step: 56, action: 6.8, 0.4, 0.5, 0.2, position: 15.0, 15.0, 8.1, reward: -13.763, z_v: -25.9.\n",
      "Step: 57, action: 6.8, 0.4, 0.5, 0.2, position: 15.0, 15.0, 7.9, reward: -14.144, z_v: -25.9.\n",
      "Step: 58, action: 6.8, 0.4, 0.5, 0.2, position: 15.0, 15.0, 7.6, reward: -14.536, z_v: -25.9.\n",
      "Step: 59, action: 6.9, 0.4, 0.6, 0.2, position: 15.0, 15.0, 7.3, reward: -14.939, z_v: -25.9.\n",
      "Step: 60, action: 6.9, 0.4, 0.6, 0.2, position: 15.0, 15.0, 7.0, reward: -15.353, z_v: -25.9.\n",
      "Step: 61, action: 6.9, 0.4, 0.6, 0.2, position: 15.0, 15.0, 6.7, reward: -15.779, z_v: -25.9.\n",
      "Step: 62, action: 7.0, 0.4, 0.6, 0.2, position: 15.0, 15.0, 6.3, reward: -16.219, z_v: -25.9.\n",
      "Step: 63, action: 7.0, 0.4, 0.6, 0.3, position: 15.0, 15.0, 6.0, reward: -16.672, z_v: -25.9.\n",
      "Step: 64, action: 7.0, 0.4, 0.6, 0.3, position: 15.0, 15.0, 5.7, reward: -17.140, z_v: -25.9.\n",
      "Step: 65, action: 7.0, 0.4, 0.6, 0.3, position: 15.0, 15.0, 5.3, reward: -17.623, z_v: -25.9.\n",
      "Step: 66, action: 7.1, 0.5, 0.6, 0.3, position: 15.0, 15.0, 5.0, reward: -18.123, z_v: -25.9.\n",
      "Step: 67, action: 7.1, 0.5, 0.6, 0.3, position: 15.0, 15.0, 4.6, reward: -18.640, z_v: -25.9.\n",
      "Step: 68, action: 7.2, 0.5, 0.6, 0.3, position: 15.0, 15.0, 4.2, reward: -19.176, z_v: -25.9.\n",
      "Step: 69, action: 7.3, 0.5, 0.7, 0.3, position: 15.0, 15.0, 3.8, reward: -19.732, z_v: -25.9.\n",
      "Step: 70, action: 7.2, 0.5, 0.7, 0.3, position: 15.0, 15.0, 3.4, reward: -20.308, z_v: -25.9.\n",
      "Step: 71, action: 7.2, 0.5, 0.7, 0.3, position: 15.0, 15.0, 3.0, reward: -20.908, z_v: -25.9.\n",
      "Step: 72, action: 7.1, 0.5, 0.7, 0.3, position: 15.0, 15.0, 2.6, reward: -21.531, z_v: -25.9.\n",
      "Step: 73, action: 7.1, 0.5, 0.7, 0.3, position: 15.0, 15.0, 2.2, reward: -22.180, z_v: -25.9.\n",
      "Step: 74, action: 7.0, 0.5, 0.8, 0.3, position: 15.0, 15.0, 1.7, reward: -22.857, z_v: -25.9.\n",
      "Step: 75, action: 7.0, 0.5, 0.8, 0.3, position: 15.0, 15.0, 1.3, reward: -23.564, z_v: -25.9.\n",
      "Step: 76, action: 6.9, 0.6, 0.8, 0.3, position: 15.0, 15.0, 0.8, reward: -24.303, z_v: -25.9.\n",
      "Step: 77, action: 6.7, 0.6, 0.8, 0.3, position: 15.0, 15.0, 0.3, reward: -25.076, z_v: -25.9.\n",
      "Step: 78, action: 6.6, 0.6, 0.8, 0.3, position: 15.0, 15.0, 0.0, reward: -25.887, z_v: -25.9.\n"
     ]
    }
   ],
   "source": [
    "positions, actions, rewards = agent.play()\n",
    "for i in range(len(positions)):\n",
    "    print('Step: %d, action: %.1f, %.1f, %.1f, %.1f, position: %.1f, %.1f, %.1f, reward: %.3f' % \n",
    "          (i, actions[i][0], actions[i][1], actions[i][2], actions[i][3],\n",
    "           positions[i][0], positions[i][1], positions[i][2], rewards[i]))"
   ]
  },
  {
   "cell_type": "code",
   "execution_count": null,
   "metadata": {
    "scrolled": true
   },
   "outputs": [],
   "source": []
  },
  {
   "cell_type": "code",
   "execution_count": null,
   "metadata": {
    "scrolled": true
   },
   "outputs": [],
   "source": []
  },
  {
   "cell_type": "code",
   "execution_count": null,
   "metadata": {},
   "outputs": [],
   "source": [
    "\n",
    "import numpy as np\n",
    "from agent import Agent\n",
    "agent = Agent(init_pose=[0,0,10,0,0,0])\n",
    "positions, actions, rewards = agent.sample_play([350,350,350,350])\n",
    "for i in range(len(positions)):\n",
    "    print('Step: %d, action: %.1f, %.1f, %.1f, position: %.1f, %.1f, %.1f, reward: %.3f.' % \n",
    "          (i, actions[i][0], actions[i][1], actions[i][2], actions[i][3],\n",
    "           positions[i][0], positions[i][1], positions[i][2], rewards[i]))"
   ]
  },
  {
   "cell_type": "markdown",
   "metadata": {
    "collapsed": true
   },
   "source": [
    "## Plot the Rewards\n",
    "\n",
    "Once you are satisfied with your performance, plot the episode rewards, either from a single run, or averaged over multiple runs. "
   ]
  },
  {
   "cell_type": "code",
   "execution_count": null,
   "metadata": {
    "collapsed": true
   },
   "outputs": [],
   "source": [
    "## TODO: Plot the rewards."
   ]
  },
  {
   "cell_type": "markdown",
   "metadata": {
    "collapsed": true
   },
   "source": [
    "## Reflections\n",
    "\n",
    "**Question 1**: Describe the task that you specified in `task.py`.  How did you design the reward function?\n",
    "\n",
    "**Answer**:"
   ]
  },
  {
   "cell_type": "markdown",
   "metadata": {},
   "source": [
    "**Question 2**: Discuss your agent briefly, using the following questions as a guide:\n",
    "\n",
    "- What learning algorithm(s) did you try? What worked best for you?\n",
    "- What was your final choice of hyperparameters (such as $\\alpha$, $\\gamma$, $\\epsilon$, etc.)?\n",
    "- What neural network architecture did you use (if any)? Specify layers, sizes, activation functions, etc.\n",
    "\n",
    "**Answer**:"
   ]
  },
  {
   "cell_type": "markdown",
   "metadata": {},
   "source": [
    "**Question 3**: Using the episode rewards plot, discuss how the agent learned over time.\n",
    "\n",
    "- Was it an easy task to learn or hard?\n",
    "- Was there a gradual learning curve, or an aha moment?\n",
    "- How good was the final performance of the agent? (e.g. mean rewards over the last 10 episodes)\n",
    "\n",
    "**Answer**:"
   ]
  },
  {
   "cell_type": "markdown",
   "metadata": {},
   "source": [
    "**Question 4**: Briefly summarize your experience working on this project. You can use the following prompts for ideas.\n",
    "\n",
    "- What was the hardest part of the project? (e.g. getting started, plotting, specifying the task, etc.)\n",
    "- Did you find anything interesting in how the quadcopter or your agent behaved?\n",
    "\n",
    "**Answer**:"
   ]
  }
 ],
 "metadata": {
  "anaconda-cloud": {},
  "kernelspec": {
   "display_name": "Python 3",
   "language": "python",
   "name": "python3"
  },
  "language_info": {
   "codemirror_mode": {
    "name": "ipython",
    "version": 3
   },
   "file_extension": ".py",
   "mimetype": "text/x-python",
   "name": "python",
   "nbconvert_exporter": "python",
   "pygments_lexer": "ipython3",
   "version": "3.6.5"
  }
 },
 "nbformat": 4,
 "nbformat_minor": 2
}
